{
  "nbformat": 4,
  "nbformat_minor": 0,
  "metadata": {
    "colab": {
      "private_outputs": true,
      "provenance": [],
      "authorship_tag": "ABX9TyMmI+cGajaUNwjzd7HwpMnv",
      "include_colab_link": true
    },
    "kernelspec": {
      "name": "python3",
      "display_name": "Python 3"
    },
    "language_info": {
      "name": "python"
    }
  },
  "cells": [
    {
      "cell_type": "markdown",
      "metadata": {
        "id": "view-in-github",
        "colab_type": "text"
      },
      "source": [
        "<a href=\"https://colab.research.google.com/github/gihuni99/Basic_MLDL/blob/main/Ch03_3.ipynb\" target=\"_parent\"><img src=\"https://colab.research.google.com/assets/colab-badge.svg\" alt=\"Open In Colab\"/></a>"
      ]
    },
    {
      "cell_type": "markdown",
      "source": [
        "# Feature Engineering & Regularization"
      ],
      "metadata": {
        "id": "rGSYsNIiQZee"
      }
    },
    {
      "cell_type": "markdown",
      "source": [
        "### Multiple Regression"
      ],
      "metadata": {
        "id": "LcatoxfqQj9n"
      }
    },
    {
      "cell_type": "markdown",
      "source": [
        "**Multiple Regression**: 여러 개의 특성을 사용한 선형 회귀\n",
        "\n",
        "이전에는 1개의 feature(length)를 사용하여 target을 예측하여 직선을 학습하는 Linear Regression\n",
        "\n",
        "2개의 feature를 사용하여 학습하면 평면을 학습한다->Multiple Regression\n",
        "\n",
        "식) **target= feature1 x W1 + feature2 x W2 + bias**"
      ],
      "metadata": {
        "id": "Vw0jxVeQQwu3"
      }
    },
    {
      "cell_type": "markdown",
      "source": [
        "이번 예제에서는 농어의 길이, 높이, 두께를 Feature로 사용할 것이다.\n",
        "\n",
        "**Feature Engineering**: 서로 다른 feature들을 사용하여 새로운 feature를 만들어 내는 것. 예를 들어 '농어 길이 x 농어 높이'를 하나의 새로운 feature로 만드는 것이다."
      ],
      "metadata": {
        "id": "jZpMsVb_TGBc"
      }
    },
    {
      "cell_type": "markdown",
      "source": [
        "### 데이터 준비"
      ],
      "metadata": {
        "id": "ztqaSIL3T_Vd"
      }
    },
    {
      "cell_type": "markdown",
      "source": [
        "이전까지는 데이터를 손으로 쓰거나, 복사 붙여넣기를 해왔다. 하지만 이것은 데이터가 적을 때 가능하다. 만약 데이터 양이 방대하다면 새로운 방식이 필요하다.(Download)\n",
        "\n",
        " 따라서 이 때 사용하는 것이 **Pandas**이다."
      ],
      "metadata": {
        "id": "Y49l3A9SUDb6"
      }
    },
    {
      "cell_type": "markdown",
      "source": [
        "**Pandas**: 유명한 데이터 분석 라이브러리이다. *Dataframe*은 pandas의 핵심 데이터 구조이다. Numpy와 비슷하게 n-dimension array를 다룰 수 있고, 더 많은 기능을 제공한다. Dataframe은 numpy array로 쉽게 변환 가능하다."
      ],
      "metadata": {
        "id": "xoCg8-XEURxm"
      }
    },
    {
      "cell_type": "markdown",
      "source": [
        "pandas를 사용해 농어의 데이터를 인터넷에서 다운받아 dataframe에 저장하자. 구 후 numpy array로 변환하여 training을 진행한다."
      ],
      "metadata": {
        "id": "sxpcKp-iUzAa"
      }
    },
    {
      "cell_type": "markdown",
      "source": [
        "pandas dataframe을 만들기 위해 가장 많이 사용하는 파일은 **CSV**파일이다."
      ],
      "metadata": {
        "id": "sEJccRSrWDU-"
      }
    },
    {
      "cell_type": "markdown",
      "source": [
        "![image.png](data:image/png;base64,iVBORw0KGgoAAAANSUhEUgAAANIAAAJiCAYAAACyzJweAAAgAElEQVR4Ae1Zi67FNo6b///pXbgYDlhdyrL8SOwcHyCQTD0oMxHa3v7n/+7vKnAVGFbgP8MdboOrwFXg/+4i3Y/gKjBBgbtIE0S8La4Cd5HuN3AVmKDAXaQJIt4WV4G7SPcbuApMUOAu0gQRb4urwF2k+w1cBSYocBdpgoi3xVXgLtL9Bq4CExToXqT//Ke7dHhsj9vDhwn/22Bm/55erTWtebN0UX0yM9hce0Z/D0f8Tdu9DW9eyuP28FkCz+zf06u1pjVvli6qT2YGm2vP6O/hiL9p7yIl1H/7Rbbyt+Ylrr401c5rzyD3cMTftHeREuq//SJb+VvzEldfmmrntWeQezjib9oli1QujIcvByEQw5lzio84fMSBW8tx1CAHsRm29GzpD27kK+4ohjgseGELzjGLI25z1CytmNdL4QoDT4nhwdywwNlync1D7G07fZGKAPzjM8Tx4gWP8m2O7cX1tVyua/Wz89f47ZyYgXHLZ89ef+6BvjMs9/V88HAcWLEWL2eFcQ38TC5qnrL//uoTrPbypVRhjKs4Y+xjlFaMeVDrYRzP+NEsKu7NoHIjLIrjLioPsRHLfT0f/Tlew0rM5tpzrd7LRc1TdvoilYupRwlmMSVKK2Z7QUBVj1jWql6MFd97LBfXIRZhUbzWB7ERy/yej/4cr2ElZnPtuVbv5aLmKTt9kWqDq0szxj76tGIlP5OL/hkb9Vdxr7/KjbAoDi6Vh9iIRV/Pcm/kRFiJ21x7Rg+FKwz5T9qtFsmKWkRSQinM1kJELxfxjFW9GGM/6uvlMl58e7Z9OY6YwhAbtTwT+7avmkFhpc7i9ozeClcY8p+0UxdJicKYurSHAYdlURTGPL25XKd8xWsxe87OhXz0gQVu5+I4YgpDDLYlB7lsbZ09I7cVL3k2155rPb1c1Dxlpy9SGRziwOIy6tKMsV+rsRy1XNUT9ahrtaqXhxUcj+rv1dlczmMfeQorsYLjQS5br45zlG/r7Bk1Hl7iJYYHZ9TBIs592Oc8+G/a7kVaNTQLqISbwbuq76zZWIMZPW2Pne9vZz3lvN0inSLcnfMqwArcRWI1rn8V6FTgLlKncLfsKsAK3EViNa5/FehU4C5Sp3C37CrACqQXif+iNPrXH/Tigd72MRNs7zyRNlG8l7e1bgZ/TaMZ/VvvskNeapGUOAprvVjtRbT2mJmn7qKwGifu5NVF8VrvGbGZ/OjFcwEr9pd+qdsqcRTWIiDqYFtqVueoWRTWMkdUF8VbOEZyRvlRD2tn8XCb95XzXaTgTfZ+EFFdFA/GGg6P8qMe1g7k4TbvK+dXFolFZn9HUXvni+qi+GotRvi5ln2e2cM550t+apHKxYtA/PSIwSKz39NrZc3IbFFtFF95r9J7hJ9r2eeZPZxzvuSnFkmJo7CaQDbfnmu1T8ZG54rqo/jqu/by2zp7xtwejvjX7F0k8UZnfARRjyguxpoK9fLbOnvGkB6O+Nfso4tUxPWeXYSd9QFEfaL4aj16+EuN99h5e/rbHiedH10kJcxOgs+cJeoVxZVWM7FZ/F4fD595h516LVukViFb86xovXW2D58zPaPc1XGeu8cfnQ+cXh8PR93XbGqRyuWLQPx4grQK2ZpneXrrbB8+873Y5xz4Ef/qOObotaPzgdfr4+Go+5pNL9IOAnz9JX39fjt8Q7NnOHKRZotw+10FRhW4izSq4K2/CpT/5LkqXAWuAuMK3EUa1/B2uArcfyLdb+AqMEOB7n8ieX9ZKjg/mSG5jv1Mj9Fc5i1+5mdrceYewGA59oQPXtgnOH+BI/elmP+PZAUqL8f+FGZzaufR+lpvG1NcCrN1OEe5Kq4w9JttFZfCZvP+Qr+/X37jrdULaMUaKf75J1tr7oy80flVPc+l4grjmpm+4lLYTM5f6TV1kZRoIy9qpFbN0oNlZsjkYpaeGtTOsG/zz7jDDj22XaRdXnBmjpJrn+glZ/pHvXrib/P3zLxjzfRFyn5InihvveCR+dXMFhvp72nVi9vZevvcuoH/Idv6Elrz7MvorbN9Rs+jc0T1UXx0fq/+LV5vntPx6f9EsoL0vLCeGss76zw6S1QfxWfdg/u8wcn8X/TvIgVvdfSji+qjeDBeOvw0X3rAQwumLpJ6SQqLtOqpiXq2xBWvwrxeKpcx9tFDYYjNtk9yzZ59936vLVLtpdZiELQlB7mtVvVUWOmn8AiL4jynyuV4j5/pmcntmeVrNVMXqYhTXgA/nmC1F1WLoV9LDnIzlmevcXixqD6KY1avP+I91nLjrHqt4Fc8X8G6F+lNAb7+kr9+vze/nVXcRy7SKjFu36tArwJ3kXqVu3VXAVLgLhKJcd2rQK8Cd5F6lbt1VwFS4C4SiXHdq0CvAt2LpP6yVDD19A73Rp2dPztDVB/Fs3zZ/Jn86MUzAIPl2Jf99CJBoGLtT2E2Z+ezml9h3h1ULmPso4fCEJttFZfCWnlLLdezjx4KQ+xL9u82NN5OCaSwxnZbpKn5FeYNq3IZYx89FIbYbKu4FNbCizrYUsM+eigMsS/Zu0jB28x8CCpXYUwZxTl3hd/LjzpYb7Yo7tWdhk9fpCIcP6cJYufNfAgqV2HMEcU5d4Xfw8817Kv5oriqORGbvkhWhNOELPPyY+8Tnbk2unsUj7hG4738XMd+maec+Rmd8ZT6qYukLm2FVjk7Y5n5Va7Cyn09/CktevltnT3b+aO4zT/1fBcpeHOZD0HltmLBGFPDaqZWAltrz7ZPFLf5p57vIgVvLvMhqFyL2XNAPz08wl9qvccbdITP67kjPnWRlGgK21GIMpOaVWHe/CqXMfa9HivxFfzck33cQ2GIfcm+tkijAo/Wq5eoeiqs1Co8wlRczeH193Jb8RX83JN9zKQwxL5kpy5SEaYIx48n1qjAo/W1uUbm51o7o43hrGaxtSoni4HPWtWnld/mtfRWfKdj3Yv05sXty3tzlhXcX7/fCs3e7nnkIr0t2uW/ClgF7iJZRe75KtChwF2kDtFuyVXAKnAXySpyz1eBDgXuInWIdkuuAlaB7kXy/rI0+ufP0Xp7wZEzZmntgXxrub4W47xV/ih/VB/FV93r7b7pRWKh7PAlZn8Kszk4q1yFIX+1LdwZ/ihXxRW26l6KS2Eev8pljH30UBhiX7J/v/zG2ymBWjGPYrTe69uDYxbYlh5RroorrIWrJ0dxKczrrXIZYx89FIbYl+zyRRoV660XAV7YlntEuSqusBauWTkZ/kwu5uupQe1J9i6SeFv88tkXqf+CSq59OEH1UhjXrPYz/JlczN1Tg9qT7PRFKsLxMyLGWy+BedmP7qJyGWMfvRSG2Gqb5S759rEzRnGb/5Xz9EWywmRfFup761Dfay2vPWf72vpytk+254x8O1dLT1WjMO4VxTn3ZH/LRXpTfMttz9mXHdVH8SxfS34vp6pTGM8QxTn3ZH+7RXpT+MLtPb0vObpPFO/l9epG+FStwpg7inPuyf5Wi7Sj6JmZVC5j7OOjURhis+0ol6pnjH3MrjDEvmRfWyQlsMI8sTO5Xo8W3ONReIRFcZ5H5XK8x8/0VLkRFsV7Zj6lZuoilUsXMfnxhPBE51r4qoeqV3mjmMdTwzG3yuGYimPeWgw5WWu5cVZ9PH7UwNpa4LA2/tVz9yK9KUh5SV/+ff1+X3x33/4iv/jG7p22VOAu0pav5Q51mgJ3kU57Y3feLRW4i7Tla7lDnabAXaTT3tidd0sFuhdJ/WUJf/K0tvfm6NNbP1qX5Ue+tTxHLcZ5q/xR/kw9clfdZae+6UWCOMW2/FrzVC9wqdgTWJY/uquKK2zV3RSXwjx+lasw1JdYLY68L9i2bRA3bRGoJUe0/gdCLayXtwoHL2wLT5Sr4gpr4erJUVwK83qrXIWVeuCwXs+v4HeRnDeJDwDWSfsXHOWquML+1XTxIcOvchVWRgYOu/gar7dftkgjAnIt+0+pxZzsR/wl1z5co3opjGtW+xl+lRthKr76Tm/0v4skVOeXz75I/RekchljH4UKQ2y1zXKr/AhT8dX3eqP/dotkhbfn1SJZPnvO8tv6crZPtueMfDtXa087u+0TnVt5TstbskhWzIwottaeM716ci2fPWd7RvVRPMvXkj+T0/aKzi3znZiz1SKVl+A9T4jrcduPIzNLVBvFM1wtubP5uF/xvadltpNztlokJSS/KBVfjWX4VS5j7GNuhSE2245yqXqF8dxRnHNP9l9bpFaBvTwPn/0yPB6FR1gU59lVLsd7/ExPlduK8WyqhuNf8e8iBW/S+xBqeInhse2Bw9o4ziU++wdOaxWPx99Sy/28PpzzBX/+23pAla+/nK/f74FP5HGKIxfpcZUu4VUgUOAuUiDQDV8FWhS4i9Si0s25CgQK3EUKBLrhq0CLAneRWlS6OVeBQIHuRfL+slRwfgL+rcI8N/uZIbmu+PYXxW3+7PMof1QfxWffZ5d+f990MBkLZVNLzP4UZnN2OY/OquoZYx93Vhhis63iUpjHq3IZYx89FIbYl+zfL7/xdkqgVqyR4vE0NX9mCFXPGPvoqzDEZlvFpTCPV+Uyxj56KAyxL9m7SPQ2V7z0qGcUp/GWuKP8UX0UX3KpF5reRSLRy0u3D4W73OhDiuJdpImiUf6oPoonRt06deoilZsW4fjZ+vZmOPXSFWbK3GNUG8XdxgOBwslPthXXRvNH8Sz3zvlTF0kJp7CdBbGz9c4f1UVxO8eq8+gcXr2Hr7rH233vIgVvoOeDiGqieDDS1PDoLKpeYVOH3rDZXaTgpWQ/iig/igfjTA+PzmPr7Xn6wJs2vItEL0Z9BAqjkn+5UW4U/1ezBQfFrzCPWuUyxr7X46v4a4s0KvpovXqhqqfCSq3CFcY8Ubw3l+tqvuJXWOmh8AhT8do8X4pNXSS8gCIoHk+sUdFH62tzYfYah4pxHfvgYox9xNmW+Iof89Y4vFit3sZwXnGP3XqueVuLb+m95MW0j7X/+v0eE/JBoiMX6UF9LtVVoEmBu0hNMt2kq0BdgbtIdX1u9CrQpMBdpCaZbtJVoK7AXaS6Pjd6FWhSoHuRvL8s4U+esE1T/DcJNdZmeozkWl6cMz1RA5upfSIXc8H2cpZ69UNfWJXzRUyrUbkpBFJCtmKV9n9CquefpEnAKJeqV9ikcdNt1CwKqzUu+XhsnuqlMFv3hXN6kXBpJVArhh6RVf2impH4KJ+qV9jIjCO1ahaFtXCoulaspf9pOXeR6I2pD4HCXe6Knl2DOEW987XWteY54x0Db7tIb7yAwmmf0Tf5xj0yM/fO11rXmpeZecfcqYtULliE46f30m+8AMWpsNY7jdS2cmTzykz8ZOuR33K3lhz0O91OXSQlnMJaROuta+mdyemdo7cuM9uM3N45o7ooPmP2nXpsuUg7vYSeWXpq3vooemet1dVib91zNe9dpEDh7EeRzQ/ol4d75/XqPHz5RV4muItEL0B9BAqjkn+5mdx/FT50UPMprGUcVaewll5fyHltkWqi12IQvSUHua1W9VRY6adwhbVy27yZvdBb9VSYdz/08eJeL677qj91kSBwERSPJ1xN9FoM/VpykJuxmBvWq1X8qLHW61HDVf9afmusdbaIX8Vtb5xbZzs5r3uR3ry0eolvzjOb++v3m63XDv2OXKQdhLszXAVYgbtIrMb1rwKdCtxF6hTull0FWIG7SKzG9a8CnQrcReoU7pZdBViB7kXy/rKEP3nCMtnuPma2NjN3pha5mf6jueCE7emH2mL5xzj7nPNV/99KNNyyJpAVtrRTWAPNKymjs6p6heFyJVaLI2+WVVwKq/HZfD6zX+vxxVh6kSCCEq0VQ4/drJo/M6OqV1jpCRw2w9Obq7gU5vX3coHDevVfxu8i0dsd/RAy9ciFpTEedTP8Xi5w2EcvsAnZXSR6EeVDsA+FQ7f1Q+I89kOCBQkZfi8XeLH2WTDyli3vItFrwQdB0P/+FYwxz7cfkepXahln3+s7E7czZnp7swKH5Z4K4/hX/KmLVEQpwtnnZLEyH4LKtVh0florO0+N38v1cHwPtZ5fiU1fJCtMTWSbu+M5M7/KtVh0floDO0+N38v18NKrFqtxnRa7ixS8scyHoHIZK773BGMsC/N8EYmX6+GlXy0W8Z0Un7pISjSF7SqQmlVh3vwqV2FcH8U5d9RXXArzeLxc4LBcrzCOf8V/bZFGBR6tVy9Q9VRYqVV4K8bcqsbrz3U9vuJSWI3f5vOZfcynMMS+ZKcuEl5AEQ+PJ9aowKP1tbkwe43Di3Gtl8PcXo6Hc22P3zpfjZ972Bk4Vuth604/dy/Smxf/+gv6+v3e/HZWcR+5SKvEuH2vAr0K3EXqVe7WXQVIgbtIJMZ1rwK9CtxF6lXu1l0FSIG7SCTGda8CvQp0L5L3l6WC85MdjGs9jmzP1nzLjXNrPee1zD7Sn7kyPjhhM7XIRW2xtR/yajlfidWVELeEOErEVky0/Qcarff6tuKKv7UWeaUHHmCebc3z6rO4up/Can1tvj1zbYnV4px7up9eJFxYCdSKoYe1o/W2X/as+LM9kB/1QhwWdSut4lKYN4OXq3BgsF7Pr+DbL9KTQs986VEvxGGfvCdzZfi9XIUDg2XOL/p3keitlpduHwqn3NoHxDH2UwSTkjP8Xq7F+cz+pJG3bLPdIhXh+XlSNfXSFdYyU62OY+y39B3NKXz8ZPp5s1qcz+xnuE7LnbpI5fJFOPu0iqJEV1hrvxl5vfxencXtecbMmR4Zfi+XcfbLHPacme2k3OmLZC+fEVLlKsxyrDz38nt1FrfnlXdRvTP8Xi7j7Bc+e1YzfAG7ixS8xd4PQdUVzHuCMZaF1ZwemZcL3Lsb4l7fL+BTF0kJpjBPOJWrMK9+FFdcCmvhaa1rzWvhjHIUl8K8Pl6uh5c+tZjHcyL+2iIpgVuxVS9oJr/qpT4QL8/DVY9WTPVUWE1fm2/PdpYobvNPPU9dJLyAIh4eTxhPYNTBZuu9/FYcvLBeXYnXflEctV6eh6Ou15a+/Hh9avwt9ehb64OcL9j617DpDb/+cr5+v00/q6GxjlykoRvf4qvAAgXuIi0Q9bb8PQXuIv3eO783XqDAXaQFot6Wv6fAXaTfe+f3xgsUSC8S/+nT++sS5yyYeVlLnpv9LGGtlmPFf/o3wm9rccYdcLYW8S/b1JssAtmfxaKzrd/pbGfvmc324DP76K0wxGZbxaWwDG9UH8UzXDvn/t2MyrRKFMbY5zYezjk7+KNzevXAYfmuCuP4TF9xKayVM6qN4q08J+SlFkldiMVin3M9nHN28Efn9OqBw/JdFcbx1f4If1QbxVff7cn+d5FI7fLi7UPh0PU+HOCw3EhhHF/t9/JHdVF89b2e7j+0SFYse8ZlPBzxXayaU2HevF4u48Xnx+v1BM5zZfmi2iie5ds9v3uRlFAKKwJ4+O7iZGf37gkclu+tMI6v8kd5o/oovupeb/XtWiRPpCz+1qUzvN6dVA8vFzgs1yqM4yv8Uc6oPoqvuNPbPdOLVBPJi3n425dv4c/M7uUCh2VehXF8tj+DL+oRxWffaYd+qUWKBPLiHr6DADyDmlNhXMO+lwsctqWGc2b5ir+nd9Qnivdw7l4zdZHKZa2I9gxBPBzxyI7Wq/6qp8JKbSvOeeyDX2G1/qjrsR6X6lXLrcVWza5m3AlLL1IR0T72Qhy3MZyjl4E8z47W1/qOzl+r51jtDrWYN3uEW26cVV2NvxYrvaK44jsdSy3SLpf9+ov6+v12+Y5mznHkIs0U4Pa6CsxQ4C7SDBVvj59X4C7Sz38CV4AZCtxFmqHi7fHzCtxF+vlP4AowQ4H0IpW/KPHjDXHiX574Xux7d1Q41ykNorjqORMb4be1OPN8wGA59mU/tUhFHPuzGAS0uK3b8Tw6s6pnjH3cX2GIzbaKS2Eeb5Sr4grz+p+M/92Mym2UKAorLTy80v710OjMqp4x9nFZhSE22youhXm8Ua6KK8zrfzKeWiR1UU8oD1c9dsFGZ47qVVxhT+qR4Y9yo/iT93qa6y4SKV4+BPtQOHSjD0nFFRYSTUzI8Jdc+/AomV5c9wV/aJFqwtViuwqnZlaYN3/JtQ/nql4K45rZfm2+iEvNypjtzbGo9+nx7kWKRIripwiXuYfKtVg52+dNLex82Vm4nn30URhiX7Jdi9QiTkvOCUJm7qFyFcb3juKcu8If5ed69jGrwhD7kk0vUqswrXm7i5m5h8pVGN85inPuCn+Un+vZx6wKQ+xLNrVIGVEyubsIqmZWmDevymWMffRQGGKzreJSmMerchljHz0UhtiX7GuLNCrwaL16iaqnwkqtwiMsivNMKpfjPb7qqbAn7tcz/8416UUqwttHXdB7QciN4sjz7Gh9rS/fr5anYlyrZozi6KlqERuxo/xRfRQfmX3n2tQi7XKRVR/Zvd8uCpw3x5GLdJ7Md+KvK3AX6etv+N7vEQXuIj0i8yX5ugJ3kb7+hu/9HlHgLtIjMl+SryuQXqTWP2+e+Jc1ezecMx8BamBtLXBYG199Bi9slg91sF59if/SL3VbJY7FILDFTxB1dGZVzxj70ENhiM22ikthHq/KtVg54/H6fBGfvkgQyQoMfGc7OrOqZ4x96KAwxGZbxaUwj1flKqzUe7jX+3Q8tUjqsp5gHq567IKNzqzqFcb3jeKcu8If5ffqPXzFHXboeReJ3kJ5+fahcOiqj0dh3CiKc+4Kf5Tfq/fwFXfYoefQItXEqsV2uLiaQc2sMFVbMJWrMNTXYsiZbQsnP9n+XFubvxbLcp6Q371IkVBR/ARxyozZe5R8+6i7ZvuqHjOw0Tm8eg+fMfOOPboWqUWklpwdBbEzjd5D1SvM8j51Hp3Fq/fwp+71NE96kVoFas17+sJZvtF72Hp7zs4zO390Hq/ew2fPv0u/1CJlxMnkbiOG+J+ImXuoXMbYf+POil9h3mwqV2Gl3sO93qfjry3SqNCj9erFqZ4K8z4UlcsY+4qfsUwu19V81VNhpYfCWzGvvjbb6bH0IhUx7aNEUKJzXhTnXOWP1queBWu5G/JUj1q9jeHs9VH4KAZOWK9fiasf6mBVTsG8ei//dFyrtfmtvv6Svn6/zT+vrvGOXKSum96iq8BCBe4iLRT3tv4dBe4i/c67vjddqMBdpIXi3ta/o8BdpN951/emCxVILxL+7AnrzXbiX55wJ2u9Oyo8qo3iqudMbJS/Vm9jOM+cf9deqUUqwtifxSCexW3djufRmVU9Y+zj/gpDbLZVXArzeFWuwrg+inPuyf7fzajcRomisNLCwyvtXw+NzqzqGWMfl1UYYrOt4lKYx6tyFYb6Wgw5X7GpRVKX9sTycNVjF2x05qhexRX2pB4Z/kxuuUM2/8l7z+a6i0SKlhdvHwqHbvThqLjCQqKJCRn+VbkTr/Naq6FFqglbi71224BYzawwr03JtQ/nql4K45rZfm2+iMvW1mavxSKeE+PdixQJFcVPEStzD5VrsXK2z5ta2Plqs6hchZUeHl7rf3Ksa5FaRGrJOUG4zD1UrsL43lGcc1f4GX6V24qtmH2nnulFUsKpC7XmqdqdsMw9VK7C+H5RnHNX+Bl+lduKrZh9p56pRVKieZfJ5Ho9nsbVzArz5lK5jLGPHgpDbLZVXArzeFVuK+b1/Ar+2iKpF5ARdbRecameCiu1Co+wKM4zqVyO9/iqp8J674eZvJ6If9GmF6mIZB8lTCRmFFc9GRut517st9yt5Hv8UX0Uxyxef8R77Sh/S/2q2Xvv/ERdapGeGKiF4+sv6uv3a3nHp+UcuUiniXzn/b4Cd5G+/47vDR9Q4C7SAyJfiu8rcBfp++/43vABBe4iPSDypfi+AulFavnzZ5Gt9y9Prf1XvZpR/qg+iq+6F/qO8NtanNG7WGCwHPuyn1qkIo79WQwCWtzWqbOqUZiqnYEpLoV5XCqXMfbRQ2GIzbaKS2Eeb5Sr4grz+p+M/92Mym2UKAorLTy80l7W9PSpcdRiikthXg+Vyxj76KEwxGZbxaUwjzfKVXGFef1PxlOLpC7qCeXhqkcNm9WnxoHYCi7uyf5KTvRusWomry6Tix49Nag9yd5Fore14qVzT/ZBqzDEnrAZ/pJrn2jGTP+o187xoUWqiVSL1QTJvqhar2zMcvfcwfawM0Rxmz/7PMKv9LDYSP/Zd32yX/ciWQHt0FHc5nvnWX28/owrLoVxTeRzPfuoUxhiT9hR/qg+ij9xxyc4uhapRZyWnJYLzurTyzXKz/XsYx6FIfaEHeWP6qP4E3d8giO9SK3CtOZFl5zVJ+IpccWlsJZeyOF69lUc2JNWzZThj+qjeIZr59zUImVEyeRCIFWjMOTPtopLYR6vymWMffRQGGKzreJSmMerchljHz0UhtiX7GuLpARuxcoLULmjL0b1VJjHr3IZYx+zKszrj5peq7gU5vGrXMbYx4wKQ+xLNr1IRRj7KEEiAb14S+/C59WrWTLYKH9UH8Ux69fvh3t+xaYWaZdLr/rI7v12UeC8OY5cpPNkvhN/XYG7SF9/w/d+jyhwF+kRmS/J1xW4i/T1N3zv94gCd5EekfmSfF2B9CJFf76N4rsLOmv+6C+LUXyVTrPuV+ZDLzXrW/dTszyBpRZJicMY+xheYYjtZtWsCqvNXfLxqDzEsn1VryymOBXW2hd34XxgI3253yn+XSR6U+rlK4xKXDeqi+Ju44GA4lRYCwXqYG2Nh9u8r5xTi6QuHQkWxVXPt7CZs0a9ovhTGvTOgTpYO6+H27yvnO8i0Zuc+fKjXlGcxlrq9szBNezzoB7OOV/yhxYpEiuK7yZkmdc+vTNGd4/ivbxR3Yz78ezsM7eHc86X/O5FioSK4juKqGZWWMvsUV0Ub+GYkZOdw+bbM2bycMS/ZrsWKRIpiu8qoppbYS3zR3VRvIVjRk52Dptvz5jJwxH/mk0vUiRQFKO19fQAACAASURBVN9ZQDW7wlruENVF8RaOGTmZOUqu99hZMn1t7Ynn1CJF4kTx3QVS8yus5R5RXRRv4cjmKE6FZfp69R6e6X1S7muLNCr0aL16Saqnwkqth6Pv6jh4MlbNpLCW+4F3tB59TrfpRSrC2QciWBxnxNmW2MhvtN7jxsywtTwvVvBovtF4jbsWw71gvdxoPtR5eR6Ouq/Zsa/5JTW+/pK+fr+XPpultEcu0lJFbvOrQIcCd5E6RLslVwGrwF0kq8g9XwU6FLiL1CHaLbkKWAXuIllF7vkq0KFAepHKX5T4sZwcO+2vT3Z2nO0da2fUwLbk1nJmxzAXbKY/aqzlHrUY533NTy1SEcn+GGMfeQpDbDc7OquqVxjuXWK1OPJmWcWlMI8vylVxhXn9T8b/bkblNkoUxthHG4UhtpsdnVXVK6zcGzjsE1ooLoV5s0S5Kq4wr//JeGqR1EUjoaK46vkWNjprph65sCfcuWfWnpq3tBjhvYtE6pWXbh8Kh27rR8N57IcECxIy/CXXPtFImf5Rr53jQ4sUiRTFdxNGzaswb+6Sax+Vyz3ZV7mzsZb5PE41q8JQX4sh5yu2e5EikaL4KQJm7qFyLRadn9bFzpPl9+o9PNv/lPyuRYpEiuKniFPmzNxF5VosOj+tjZ0ny6/qFZbte1p+epEikaL4cQKJP/l7d1B3Z6z43uP1XI3zfD1ctt6ee3qeWJNapEikKL67QGp+hXn3ULkK4/oozrmjvuJSmMejchlj3+vxVfy1RRoVfbRevVDVU2GlVuGtGHOrGq8/1/X4ikthHr/KZYz9nvlOrkkvUhHLPhDA4jgjzrbERn6j9R43Zoat5akY6mBVDmMlT/08XOVmMMwF69V6/KiD5Xpg1nLOV339Fje/bXlRX/59/X5ffHff/iK/+MbunbZU4C7Slq/lDnWaAneRTntjd94tFbiLtOVruUOdpsBdpNPe2J13SwXSixT9aTOKb6kCDTVr/ugvb1GcRprqjtzP1uLMAwKD5diX/dQiFXHsjzH2kacwxHazalaF1eYu+XhUHmLZvqpXFlOcCvP6RrkqrjCv/8n4382o3EaJwhj7aKMwxHazalaFtcwd1UXxFo5sjuJUmNc3ylVxhXn9T8ZTi6QuGgkVxVXPt7CZs0a9ovhTGmTmyORi/p4a1J5k7yLR25r50qNeUZzGWupm5ii59omGy/SPeu0cH1qkSKQovpsw9iMZmT+qjeKrtLF3zPComRWGnrUYcr5iuxcpEimK7yigmllhLbNHdVG8hWNGzugcXr2Hz5h5xx5dixSJFMV3FKLMpOZWWMv8UV0Ub+GYkTM6h6pX2IxZd+6RXqRIpCi+tRjBn/czs0c6RPEM10ju6By23p5HZjupNrVIkUhRfHdh1PwKa7lHVBfFWziyOYpTYV5flcsY+16Pr+KvLdKo6KP16oWqngortR6Ovqvj4MlYNZPCvPupXMbYz8z1hdz0IhWx7AMhLI4z4mxLbOQ3Wu9xY2bYWp4XK3g032i8xl2L4V6wXq43H+pguR6YtZzzVX/sa35JlfKivvz7+v2++O6+/UV+8Y3dO22pwF2kLV/LHeo0Be4infbG7rxbKnAXacvXcoc6TYG7SKe9sTvvlgqkFyn602YU31KF/w5lZ8c5MzNqYG0tcFgbX30GL2yGDzXWco9ajPO+5qcWqYhkf4yxjzyFIbabHZ1V1TPGPu6uMMRmW8WlMI83ylVxhXn9T8b/bkblNkoUxthHG4UhtpsdnVXVM8Y+7q4wxGZbxaUwjzfKVXGFef1PxlOLpC4aCRXFVc+3sNFZVT1j7OOOCkPsCZvhz+Ri9p4a1J5k7yLR2yov3T4UDl310TDGPpopDLEnbIa/5NonmjHTP+q1c3xokSKRovhuwqh5FVabu+TzY3M5lu1te/WcR/jVvArDXLUYcr5iuxcpEimKnyJg5h4qlzH2cX+FIfaEHeX36j38iTu9wdG1SJFIUfyNi/ZyZu6ichljH/MoDLEn7Ci/qlfYE3d5kyO9SJFIUfzNy/ZwZ+6jchljH7MoDLEn7Ci/rbfnJ+6wA0dqkSKRovgOF67NoOZXmNdD5TLGPnooDLHZVnEpzONVuYyx7/X4Kv7aIo2KPlqvXqjqqbBSq/AIi+I8k8rleI+veips5v165jyxJr1IRXj74OIWxxlxtiU28hut97gxM2wtT8VQB2tzgMPaOM4lvuIHXliPw+NHHSzXA7OWc77qr3lbi9UqL+rLv6/f74vv7ttf5Bff2L3TlgrcRdrytdyhTlPgLtJpb+zOu6UCd5G2fC13qNMUuIt02hu7826pQHqRoj9tRvEtVfjvUHZ2nFtnRr61XF+Lcd4TPmZ5guvrHKlFKsLbH2PsI09hiO1mR2eN6lVcYU/pUrjf5H/qnk/w/N2MCqsSnTH20UZhiO1mR2eN6lVcYU/oAl7YJzi/zJFaJCVE9CKiuOr5FjY6a099T80MfcALO6PnL/e4i0Rvv3xU9qFw6Nralo+0JSckTiYwJ/vJNjedFBhapOglRHGaYwtXzaswb1iVqzDU12LIWWGZl/0VXL/Ss3uRohcQxU8RePQeXr2Hr9bF8trzav6v9u9apEj8KH6SmKN3UfUKe0oTy23PT83xNZ70IkXCR/HTBBy9j6235yf1KNze8+QcX+RKLVL0EUTx3QVU8yvMu4fKZYx9r8fT+I4zPa3BDL7XFmn0BY7WK/FUT4WVWoVHmIqrObz+Xu4I7s3k4SNcX65NL1IR2D4QyOI4I862xEZ+o/UeN2aGreWpGOpgOQeYtZwDv+Q88fN4PPyJmU7keOZtTVbm6y/56/eb/Dls0e7IRdpCuTvEVYAUuItEYlz3KtCrwF2kXuVu3VWAFLiLRGJc9yrQq8BdpF7lbt1VgBRIL1L5ixI/1Osfl2PZvz7ZWpwtx6oz+KzN8EW1UTzD1ZM7yh/VR/GemU+oSS1SEcn+GGMfeQpDzNpMrq2dcR7lV/WMsY95FYbYbKu4FObxqlzG2EcPhSH2Jft3Myq3U6Iwxj7aKAwxazO5tnbGeZRf1TPGPuZVGGKzreJSmMerchljHz0UhtiXbGqR1MUjoaI498zkct0sf5Rf1TPG/qyZR/tkZsrkYq6eGtSeZLdbpCI8P0+KybzwM/ylxv4YY9/mvXXOzJTJxX16alB7kv375hPTRyJFcUul8hVm62adFZfCanwlnx/OZRw+x5/wwQub4UQN21p9yfuVX/dNI5GieKvAs/q08tm8DL/KZYx98CgMsSdshl/lKqzM7eFP3OkNjq5FikSK4pmLzuyV4UVuhl/lMsZ+T3/UzLRqJq+/ym3FvJ5fwdOLpIRjMaI457b4s/u1cHJOhl/lMsY+OBSG2BM2w69yLWbPT9xhB47UIkUiRfHowqpeYVGf3rjiUpjXX+Uyxj56KAyx2VZxKczjVbmMse/1+Cr+2iIp0Vux8jJU7uhLUj0V5vGrXMbYx6wK8/qjptcqLoV5/CqXMfZ7Zzy1Lr1IRSz74PIWxxlxtiWmfqiBVTkF8+q9/FYcvLBencePOlhbDxzWxnEu8RU/8MJ6HB4/6mC5Hpi1nPNVf83bWqxWeVFf/n39fl98d9/+Ir/4xu6dtlTgLtKWr+UOdZoCd5FOe2N33i0VuIu05Wu5Q52mwF2k097YnXdLBdKLFP1pM4rXVLC1ONdqZsfACZvpjxpruUctxnmr/FH+qD6Kr7rX231Ti1REsj/G2EeewhCzNpNra2ecFb/CMlxczz56KAyx2VZxKczjVbmMsY8eCkPsS/bvZlRup0RhjH20URhi1mZybe2Ms+JXWCuXrbXn0kdhrf2zeYpLYV5flcsY++ihMMS+ZFOLpC4eCRXFuWcml+tm+bP5bT97LnMrbNZ9Wvpk+DO54O6pQe1JdrtFKsLz86SYM1+66tWK7XpnNX80a09N1HPH+NAiRSJFcSuIyleYrZt1Llz26e2t5m7Fejlb6kbuZ2vVfXiGKM65p/vdixSJFMVbhZvVp4VPcSmst1epK/3s09JvVU7mfipXYbjnqpl37Nu1SJ54uGAUR16Lndkr4lNcCuvp49X09Pd69eAZfpXbivXMdlJNepGUcHzhKM65Lf7sfjVOxaWwWo8Sy9RkciPenniGX+VazJ57ZjqxJrVIkUhRPBJI1Sss6tMbV1wKi/p7NQpXWNS/N664FOb1V7mMse/1+Cr+2iIp0Vux8jJU7uhLUj0VFvFnajK5b99PzcoY+6OznlafXqQiln1waYvjjDjbElM/1MCqnIJ59V5+Kw5eWK+uxh/F0DvK87hHcObu4a/V2xjOI/OeUqu/5s2nr30Am4/eNN7X79ckwmFJRy7SYRrfcX9AgbtIP/CS7xXXK3AXab3Gl+EHFLiL9AMv+V5xvQJ3kdZrfBl+QIH0IuFPmrBWI+CwNl47o8baWs3MmOXFOcOBGliuBWYt56z2R7mj+ii++n5v9U8tUhHJ/hhjH3kKQ6zFjta3cCBnlEvVM8Y+OJ+0il9h3kwqlzH20UNhiH3J/t2Myu2UKIyxjzYKQyyyI7VRbxUf5VP1jLGv+Fdjil9h3hwqlzH20UNhiH3JphZJXTwSKoqrnsBGatEjY0f5VD1j7GfmWpmbmSmTi5l7alB7kt12kd54AYXTPpmXqWZmzPbmWIZnZm5mhkwuZuypQe1JdmiRIpGieE2okdpa31pMcSrM66FyGWMfPRSG2Apb+PjJcHAdfFsPHNbGv3ruXqQiVO0XxWu1JTZaH/VvjWfnKPn2qXFl+9d69cQy/CpXYTxHFOfck/36Njg3i8SJ4k7b/8Gj9f9rNMEZnSWqj+ITrlBtkeFXuQpjwijOuSf76UWKhIniLWLN6NHC05IzOktUH8VbZhzJyfCrXIXxPFGcc0/2U4sUiRLFW4Wa1aeVD3mKV2HIt1blMsY+ahWG2GyruBTm8apcxthHD4Uh9iX72iLVBK7FIH5LDnJbreqpsNJP4REWxXlOlcvxHl/1VNgT9+uZf+ea9CIV4e2DC1ocZ8TZlpj3q8VQ05KD3IzFzLBercePOlhbDxzWxnEu8RU/8MJ6HB4/6mBtPXBYG//qec3bWqxWeUlf/n39fl98d9/+Ir/4xu6dtlTgLtKWr+UOdZoCd5FOe2N33i0VuIu05Wu5Q52mwF2k097YnXdLBdKLhD9rwtpbAYe18Z3PmNnazMxRbRTPcPXkjvJH9VG8Z+YTalKLVESyP8bYR57CENvNjs6q6hljH3dXGGKzreJSmMerchljHz0UhtiX7N/NqNxOicIY+2ijMMR2s6OzqnrG2MfdFYbYbKu4FObxqlzG2EcPhSH2JZtaJHXxSKgornq+ha2YNeoZxVdrkeHP5GLunhrUnmTvItHbKi/dPhTucqMPKYp3kSaKMvyZXIzQU4Pak+zQIimRCsbPUWIE/w2YvYvSh3tEcc6d5fO7yfLbWlVvc2bNvXuf7kVSIqrLtuap2h2w3vmjuij+1N0zc6hchfHsUZxzT/a7FikjTiZ3RyF75o9qoviTOmRmUbkK4/mjOOee7KcXKStMNn83MbPzR/lR/On7Z+ZRuQrjO0Rxzj3ZTy1SJIqKK2xXwdSsCvPmj3KjuNd3Fq74FebxqVzG2EcPhSH2JfvaIo0KPFqvXqLqqbBSq3CFMU8U783lupqv+BVWeig8wqJ4bbbTY+lFKmLZh0WoxWwen7O+emnZHip/ZH5bizN4cLYWcbYlZ8WvhbvwevxRfRRfcacdeq55W4tv5r3kxbSPtf/6/R4T8kGiIxfpQX0u1VWgSYG7SE0y3aSrQF2Bu0h1fW70KtCkwF2kJplu0lWgrsBdpLo+N3oVaFIgvUjRnzejeG0qW4tzrWZ2DJyw2f6og7X1wGFtfPUZvLAZPtRYyz1qMc77mp9apCKS/THGPvIUhpi1mVxbO+Os+BXmcalcxthHD4UhNtsqLoVleLmeffRQGGJfsn83o3I7JQpj7KONwhCzNpNra2ecFb/CPC6Vyxj76KEwxGZbxaWwVl5ba8+lj8Ja+5+Ul1okdbFIqCjOPTO5XDfLX8HPPdnHzApD7Ak7wt9S25LzxD1Xc2y3SEV4flYLwP1XvHTuyT54FYbYE7aXv7WuNe+Ju67kGFokJVLB+MkM7/XL9BjJ5bnhj/az9egLa+Orz+CF7eUr9dGvJSfqcUo8VsO5SatIrXkOzaP/jq1mVZg3K+OqrhXjPqt9NVMLZ1QXxVs4TsrpWqSMSJlcJdxoverpYYpLYV49cK9G4QpDnydsD39UE8WfuNfTHOlFyoqUzbcCjNbbfrWz4lJYtgfyVS+FIf8J28Nfq6nFnrjPWxypRYpEUnGFeZdVuQrz6kdxxaUwjyfKVXGFef1HccWlsIjHq/HwqN8X4q8tkhK9FSvCq9zRF6J6Kszj93Ixl4orzOuPPr1WcSks4u+p6Z35lLr0IhUR7cOXrcVsHp/hj9ajT68d4be1OPMswGA5xn6Jr/iBF9bjqPF7MfS01uP4Er7mbS1WyHuRi2kfa//1+z0m5INERy7Sg/pcqqtAkwJ3kZpkuklXgboCd5Hq+tzoVaBJgbtITTLdpKtAXYG7SHV9bvQq0KRAepEyf9pEbtMkGyRhXmszo0W1UTzD1ZM7wm9rceY5gMFy7Mt+apGKOPanMOR8Qcza/XBPWJXLGPu1GsRm2xX83JN9zK4wxL5k/25G5XZKFIWVFsBhK223DWVnV/mMsY9LKwyx2VZxKayV19bac+mjsNb+J+WlFkldzBMKOKyq3R2bMTv3YB93VxhiT9gR/pbalpwn7rmaY8kisXjsr77MzP6z5uY+7GNWhSH2hO3lb61rzXviris5hhbJE4lx9ldeZHbvGXPbHvZcZlbY7Ltwv8LHD8cyfsvcLTkZzp1zuxfJE8ni9ryzGDzb6NxefcHtw7xP+96c0RxRXRSP+p8W71qkmkg2Zs8nCDQ6c6Y+k7tCux7+qCaKr7jH2z3Ti1QTqcS85+2LZvhrd4z6ZGuz+RF/Nt7DX6upxbKznZSfWqQekXpq3hawd+aoTsUVtur+ikthEb9X4+FRvy/EX1ukUdFH62svr6W3ylEY86i4wkqNh3O/rK96Kizi76nJznpafnqRioj2qV16lehe39osrbGW3iqnYOphXhvnGPuqP8d7/Rn83my2N869s55Ul1qkXS7mvchd5hud4+v3G9Vnx/ojF2lHIe9Mv63AXaTffv/39pMUuIs0Scjb5rcVuIv02+//3n6SAneRJgl52/y2AulFwp80YWvyteTU6t+IYWbY7Ayog7X1wGFtfPUZvLBZPtTB2nrgsDb+1XNqkYo49qcw5JwmprqLwnA/a1UuY+yjVmGIzbaKS2Eer8pljH30UBhiX7J/N6NyOyWKwkoL4LCVttuE1KwK8wZWuYyxjx4KQ2y2VVwK83hVLmPso4fCEPuSTS2SurgnFHBYVbsbtmJW7sk+7q4wxJ6wGX6VqzCeO4pz7sn+kkVi8djfXagVs3JP9qGFwhB7wmb4Va7CeO4ozrkn+0OL5InEOPu7C1VmtU925qg+imf5svmj/Jn6kvsrv+6beiJZ3J53FlbNqrDMHbieffRQGGJP2Ay/ylVYmdvDn7jTGxxdi1QTycbs+Y1LtnKqWRXW2q/kcT376KEwxJ6wGX6V24o9cZc3OdKLpITDBUrMe5Czs1V3U1jmDlzPPnooDLEnbIZf5VrMnp+4ww4cqUXqEamn5i1h1KwK8+ZTuYyxjx4KQ2y2VVwK83hVLmPsez2+ir+2SKOij9arF6p6KqzUKjzCojjPpHI53uOrngqbeb+eOU+sSS9SEd4+tYtnXlStj415fW1e9tx6N48/qo/imNfrj3ivHeWv1dsYzr2znlSXWqRdLlZe0Jd/X7/fF9/dt7/IL76xe6ctFbiLtOVruUOdpsBdpNPe2J13SwXuIm35Wu5QpylwF+m0N3bn3VKB9CLhT5qwtVu15Nh61MDa+OozeGEzfKixlnvUYpz3hI9ZerhKrf2hn7U274vnv2pUbumJ55VAUC9u8Wx/Wz96XsHPPdnHrApDbLUt3Fl+1LTWteatvuvq/ssWCQLCtlxE5SqspVdPjuJSWGtvW2vPpY/CWvuP5IEXNturpa4lJ8u7a35qkdQlPLGAw6pai2Vybe2M82z+ln4tOTPuZnuAF9bGo3NLXUtOxHNKfMkisYDsR6JkcqNePfGZ/K29WvN67uPVMCf7Xr7Co7oornqejA0tkicW4+xHQpVc+0Q1M+OWOzO7ncOrtRy27okzz8Z+hjuqi+IZrhNyuxfJE8ri9lwTReUqrNZjJKa4FNbC0VrXmtfC2ZJj+ey5pUfJieqieCvPKXldi1QTycbsuSaMylVYrcdITHEpLOLI1GRyI96WuOWz55YeJadWV4u19j8tL71INZFKzHtahFG9FdbSqydHcSks6p2pyeRGvFG8cHlPVGvjtblrMdvnK+fUIvUIlKlRuQpbJb7iUljE79UoXGFR/5nxXv5aXS02c/ader22SErsVqwIqHJHhVU9FRbxZ2oyuaP3U/W9/F5dpI2a4QtYepGKgPapCeEJXsO5v9fbq/fyW3HmrnGMxJjDm6vW36vpwT0eDwdHLV6Lof5rNrVIu1z+6y/q6/fb5TuaOceRizRTgNvrKjBDgbtIM1S8PX5egbtIP/8JXAFmKHAXaYaKt8fPK3AX6ec/gSvADAXSi1T+osQPD8E4+5yzu89zF3/kh15ejyju1Y3g4ITN9kIdrK0HDmvjXz2nvpQijv0xxr7NO+Gs5ldY611Kba0+irfytOapWRTm9VO5jLGPHgpD7Ev272ZUbqdEYYz9SpttQ2p+hbVcAHWwtgY4rI2vOCsuhXncKpcx9tFDYYh9yaYWSV2chWJf5e6OzZwfvWDt3YHD2vhT5wx/lKviCnvqbk/yTF+kIhw/T15mlGvWS+c+7GM+xthH/Emb4Y9yVVxhT97vKa6hRbIi2XO5hMKeulyWp8xqn2wPe2d1f8bY7+HK1ozcz9aq2W1Odr5T87sXSYmoRGjNU7VPY2pWhdXmsvnZc633ipidr8ahchljH30UhtiXbNciZcTJ5L4trJpVYbU5bX72XOu9Imbnq3GoXMbYRx+FIfYlm16krDDZ/DfFVbMqzJux5HpPqfFiGQ6PuxfPcKtcxtjHPApD7Es2tUiRKCqusF0FVLMqLDN/VB/FM1xRruJSmNdH5TLGPnooDLEv2dcWaVTg0Xr1ElVPhZVaD7d9ozwv7uG2f+aseirMu5/KZYx9zKUwxL5k04tUhLEPC1KL2Tw+Z/1VL2j2/NGcXtzDszrZ/NH7RfVR3M7zlXNqkXa59KqP7N5vFwXOm+PIRTpP5jvx1xW4i/T1N3zv94gCd5EekfmSfF2Bu0hff8P3fo8ocBfpEZkvydcVSC9S7c+bNoZzRkTUwGZqZ+SCFzbTEzXWco9ajPOe8DFLhgs1sLXalpxa/Umx1CIVYeyPMfZtXstZ1SuspVdPjuJSmNc7ylVxhXn9Z+OFO8OvchWGObP9UXei/bsZlVso0Rhjv9LGDal6hbkNBgOKS2EeTZSr4grz+s/EwQvb0lvlKqz0Ag7b0v/knNQiqYuyUOyr3AgbrY/6R/FR/qg+ikfzzYxjFtje3l49cNje/qfUTV+kIhw/GSHeFn2Un+8Nn+8/2p97jfg8B/s9PVU9Y+z39D+lZmiRrEj2XERQmCdOybWPl7sCt9yZ2b27co/R/rPubGfq7ct9uAfj7HPO1/zuRWoVqDWvCKtyFbbqJSguhWX4uZ599FAYYius5bPnVk6vzuL23Nr/tLyuRcqIM5qbqR8VX3EpLMPD9eyjh8IQW2Etnz23cNZqbMyeW/qfmJNepKwwmXyVq7BVQisuhWX4uZ599FAYYrNt4fKeVq7avF7vWk0r7+55qUWKBFFxhXmiqFyFefWjuOJSmMejchljHz0UhtgTNsOfycXsPTWoPcm+tkhK4FasCKxyR4VXPRXm8atcxtjHrArz+qNmps3we7m1eXpqav12jaUXqQhjH75cLWbz+Ax/tB59eu0of1QfxTF3yXvi5/Eo3M6Oc21O1aeWf2rsmbc1WZ2vv5yv32/y57BFuyMXaQvl7hBXAVLgLhKJcd2rQK8Cd5F6lbt1VwFS4C4SiXHdq0CvAneRepW7dVcBUiC9SPiTJyz1+scFDmvjtTNqrK3VzIxZXpx7OEqt/aGftTbvqTPm6OFT97N9RvrbXruf/77tysRKPMbYRxuFIWZtJtfWrjpnZyr5eFpmyvZv6dmak5kTPVHTMjdyUftlexep8nZbPhavvKW2JcfrP4qDGzbbL6pDHDbb/7T81CKpy7FQ7KvcCButj/pn4yPztNS25GRnbs0HN2xrHfKiOsRhUfdVu90iFeH5eUv40Q8gqo/iK+/N3OxnOGt1HGM/0/+03KFFsiKVs30ygth+pVZhmZ69uaO8UX0U7527pY652W+pRU6tjmPso/aLtnuRlECtWEZI1TNT35s7yhvVR/HeuaM6y2vPUT3iXp3F7Rn1X7Ndi+SJo3CFZUQcrc9wIXcGZ61HLYYZVlnLbc+tvF6dxe25tf9peelFqgmjYgrLiDRan+FC7gzOWo9aDDOssIXXe7J86g5eb5Wb5ds9P7VIkSAqrjBPFJWrMK9+Fj6Ds9ajFpt1h9Y+vbO01rXmtc67a95ri6QEbsWKmCp3lsgtvaOcWrwWwx1acpA7Yj0eDwdXFM/mIf9Um16kIqB9+PK1mM3jM/zRevQZsWWG6Bfl1OK1GHhbcpA7Yj0eDwdXFM/mIf9UG38xG96s9SVuOHrTSF+/X5MIhyUduUiHaXzH/QEF7iL9wEu+V1yvwF2k9Rpfhh9Q4C7SD7zke8X1CtxFWq/xZfgBBdKLVP6ixA9rxDj7nBP5XFf8p3+j/FF9FF95X8uNcw9nqY1+I/2j3rvFYzVoYiWewqgkhXCgCwAABPVJREFU9T9OVS+Fcf+ZvuJSmMepchljHz0UhthsO4Or9MATzdeaF/U5Ib50kbIvTuUrbJWwikthHr/KZYx99FAYYrPtTK6oF+Kws++yW7/UIqnha0LVYqqXwmb0UH0VprgUpmo9LKqP4l7fHnwmV9QLcdieeU+qWbZIswSc1aflpSguhbX0Qk5UH8XRZ4YtXPbp7Vubm2Ps93KdUDe0SDWRarGaMKWOn1ruihhz99whU9/Tf+TOik9hLRy1Oo6x39L31JzuRYoEiuKtgs3q08KnuBTW0gs5Xr2Ho+4p2zuHV2dxe37qXk/zdC1SJE4Uz1xyZq+IV3EpLOrDcVWvMK550u+dxauzuD0/ebcnudKL1CJMS07rJWf2ijgVl8KiPhy39fbMuW/4vfOouoJ5zxt3e5IztUhKPDVsa56tVXUKs3WzzopLYR6fymWMfa/HSlzxK6xlhta61rwWzp1zXlskJXArVgRVuaNCq54K8/hVLmPsR7NmcqNeiKueCvPuhz4tceR6/RH/ik0vUhHGPlaMFvG8nKg3uLx6xHvtKH+t3sZwVrOW2IofOGE9jog/iqNvax7yT7Vr3tZiNb7+cr5+v8Wfxyvtj1ykV5S6pFeBigJ3kSri3NBVoFWBu0itSt28q0BFgbtIFXFu6CrQqsBdpFalbt5VoKJAepHKX5T44d6Ms885NZ9r2K/VzIwxJ/s9HKXe/rgn+zbvqTNmyPChBrZW25JTqz8p9vdtV6Yvwtifwjgnivfmct1KPzN/maPk42mZK9u/pWdrTmZO3M32rs2f7W97n3T+uxmV6ZVoCkOLWgw5bLP5XLvCH5mnpbYlZ8W9Sk9ww7bwqFyF9fZvmWHXnNQiqUt4QrKYqk5htV4qfzU2Mk9LbUvOqjuCG7aXx6sHDtvb/5S6ZYvUI2Cpsc9bQvbMz7NG9VGce832mZv9Hh5Vzxj7Pf1PqRlapJpItZgnjqpRmFc/Ex/ljeqj+My72F7Mzb7NU+eSz4+XAzzbH3Wn2e5FigSK4q1CzerTyoe8Ud6oPopjjtnW8tpzls/WR+ds/1PyuxbJimUvG8Vtfu08s1eNh2MzOGs9ajGeY4Vvue05y2nro3O2/yn56UWyQqmLtuSoOoXN7KX6K2wGZ61HLabmmYUVXu/p5eC7eL05p5dn97rUIrUK0ppnxVF1CrN1s88zOGs9arHZd4n6ZWZRuQpjzijOuSf7ry2SErgVK4Kr3FkvoqV3lFOL12K4Q0sOckesx6PwVoznUTUc/4qfXqQijH2sGC3ieTlRb3B59YiP2JbeUU4tXoth7pYc5I5Yj6eGlxieiNvrE9WdFk8t0i6X+/rL+fr9dvmOZs5x5CLNFOD2ugrMUOAu0gwVb4+fV+Au0s9/AleAGQrcRZqh4u3x8wrcRfr5T+AKMEOB9CLhz56wPAQwazmn5ts6nGs1M2PgszbLwfVcyzj7nPOkjxkynKiBrdW25NTqT4qlFqkIY38K45wo3pvLdSv9zPxlDpvPZ/ZXztzau8yTmUnlKgz82f6oO9H+3YzKLZRoCkOLWgw5bLP5XLvCz87j5QOHXTFrtidmgW2pV7kKK72Aw7b0PzkntUjqojWharFsL5W/Gps1P/rArp67pT9mgW2pUTlePXBYVfslbNki9QhYauzzlti986t50cveDbiqWYkxL/s9nKqeMfZ7+p9S8/91Lqk0XHo72AAAAABJRU5ErkJggg==)"
      ],
      "metadata": {
        "id": "RZzG7GZVWOoI"
      }
    },
    {
      "cell_type": "markdown",
      "source": [
        "CSV파일은 위 사진과 같이 '**,**'로 나뉘어져 있는 text 파일이다.\n",
        "\n",
        "pandas에서 읽는 방식은 pandas의 **read_csv()**함수의 주소를 넣으면 끝난다.\n",
        "\n",
        "read_csv()함수로 dataframe을 만든 후, to_numpy() method를 사용하여 numpy array로 변환해준다. 코드는 아래와 같다."
      ],
      "metadata": {
        "id": "wSc3D_-FWQ2h"
      }
    },
    {
      "cell_type": "code",
      "execution_count": null,
      "metadata": {
        "id": "TtEG_0NoQTIX"
      },
      "outputs": [],
      "source": [
        "import pandas as pd\n",
        "df=pd.read_csv('https://bit.ly/perch_csv_data') #csv파일의 주소를 통해 dataframe을 만들고\n",
        "perch_full=df.to_numpy()# to_numpy() method를 통해 dataframe을 numpy배열로 변환\n",
        "print(perch_full)"
      ]
    },
    {
      "cell_type": "markdown",
      "source": [
        "target data는 이전과 동일한 방식으로 준비"
      ],
      "metadata": {
        "id": "-7KViAMBXjXI"
      }
    },
    {
      "cell_type": "code",
      "source": [
        "import numpy as np\n",
        "\n",
        "perch_weight = np.array(\n",
        "    [5.9, 32.0, 40.0, 51.5, 70.0, 100.0, 78.0, 80.0, 85.0, 85.0,\n",
        "     110.0, 115.0, 125.0, 130.0, 120.0, 120.0, 130.0, 135.0, 110.0,\n",
        "     130.0, 150.0, 145.0, 150.0, 170.0, 225.0, 145.0, 188.0, 180.0,\n",
        "     197.0, 218.0, 300.0, 260.0, 265.0, 250.0, 250.0, 300.0, 320.0,\n",
        "     514.0, 556.0, 840.0, 685.0, 700.0, 700.0, 690.0, 900.0, 650.0,\n",
        "     820.0, 850.0, 900.0, 1015.0, 820.0, 1100.0, 1000.0, 1100.0,\n",
        "     1000.0, 1000.0]\n",
        "     )"
      ],
      "metadata": {
        "id": "JcgiRu5zYFL2"
      },
      "execution_count": null,
      "outputs": []
    },
    {
      "cell_type": "markdown",
      "source": [
        "train_test_split을 사용하여 train, test set을 나누어준다.\n",
        "\n",
        "**주의) train_test_split은 sklearn.model_selection 아래에 있다.**"
      ],
      "metadata": {
        "id": "Jct-BuMzYd1n"
      }
    },
    {
      "cell_type": "code",
      "source": [
        "from sklearn.model_selection import train_test_split\n",
        "\n",
        "train_input,test_input,train_target,test_target=train_test_split(perch_full,perch_weight,random_state=42)"
      ],
      "metadata": {
        "id": "GG-6gJe4YJLN"
      },
      "execution_count": null,
      "outputs": []
    },
    {
      "cell_type": "markdown",
      "source": [
        "### Scikit-Learn Transformer"
      ],
      "metadata": {
        "id": "QSmGHe_ZZHTz"
      }
    },
    {
      "cell_type": "markdown",
      "source": [
        "Scikit-Learn은 feature를 만들거나 pre-processing을 하기 위한 다양한 클래스를 제공한다. 이러한 클래스를 Scikit-Learn에서는 **Transformer**라고 한다.\n",
        "\n",
        "+) 앞서 나온 LinearRegression 같은 model클래스는 Estimator라고도 부른다."
      ],
      "metadata": {
        "id": "bZlYRHOqZNND"
      }
    },
    {
      "cell_type": "markdown",
      "source": [
        "예제에서 사용할 Transformer는 **PolynomialFeatures** 클래스이다. 이 클래스는 **sklearn.preprocessing**에 포함되어 있다."
      ],
      "metadata": {
        "id": "sX1zQlwDZn8X"
      }
    },
    {
      "cell_type": "code",
      "source": [
        "from sklearn.preprocessing import PolynomialFeatures"
      ],
      "metadata": {
        "id": "fsruuxJhZ3Lm"
      },
      "execution_count": null,
      "outputs": []
    },
    {
      "cell_type": "markdown",
      "source": [
        "**Polynomial**에 대한 예제\n",
        "\n",
        "* fit(): 새롭게 만들 feature 조합을 찾는다.(transform()을 하기 전에 training을 해야함)\n",
        "* transform(): 실제로 데이터를 변환\n",
        "\n",
        "아래 fit() method를 보면 input data만 존재하고, target data는 존재하지 않는 것을 볼 수 있다. **transform()**은 input data를 변환하는데, target data가 필요하지 않다."
      ],
      "metadata": {
        "id": "o95BfTThZ9U2"
      }
    },
    {
      "cell_type": "code",
      "source": [
        "poly=PolynomialFeatures()\n",
        "poly.fit([[2,3]])\n",
        "print(poly.transform([[2,3]]))"
      ],
      "metadata": {
        "id": "6k8H7JCaaGRn"
      },
      "execution_count": null,
      "outputs": []
    },
    {
      "cell_type": "markdown",
      "source": [
        "위 결과를 보면 transform() method를 통해 feature가 많아진 것을 볼 수 있다.\n",
        "\n",
        "PolynomialFeatures 클래스는 각 특성의 제곱값과 특성끼리 곱한 값을 추가한다.\n",
        "\n",
        "+) 위에서 '1'이 있는 이유는\n",
        "\n",
        "무게 = a x 길이 + b x 높이 + c x 두께 + d x 1 의 식에서 bias값이 d에 곱해지는 값이다. 따라서 feature는 (길이, 높이, 두께, 1)이라고 볼 수 있다. 하지만 scikit-learn의 Linear model은 자동으로 bias가 추가되므로 특성 '1'을 추가하지 않아도 된다.-> **include_bias=False**로 지정(꼭 하지 않아도 자동으로 bias의 feature를 무시하지만, 명시적으로 나타내기 위함)"
      ],
      "metadata": {
        "id": "wUaNlkuwdGPw"
      }
    },
    {
      "cell_type": "code",
      "source": [
        "poly=PolynomialFeatures(include_bias=False)\n",
        "poly.fit([[2,3]])\n",
        "print(poly.transform([[2,3]]))"
      ],
      "metadata": {
        "id": "hrBZOz_siuAU"
      },
      "execution_count": null,
      "outputs": []
    },
    {
      "cell_type": "markdown",
      "source": [
        "이제 위 예시처럼 실제 데이터에 적용해보자"
      ],
      "metadata": {
        "id": "vhBCqYlcjXlN"
      }
    },
    {
      "cell_type": "markdown",
      "source": [
        "아래 결과에서 transform()을 사용하여 총 9개의 Feature가 있는 것을 볼 수 있다."
      ],
      "metadata": {
        "id": "HRCMeYoYjnvK"
      }
    },
    {
      "cell_type": "code",
      "source": [
        "poly=PolynomialFeatures(include_bias=False)\n",
        "poly.fit(train_input)\n",
        "train_poly=poly.transform(train_input)\n",
        "print(train_poly.shape)"
      ],
      "metadata": {
        "id": "Rk_i835VjZyB"
      },
      "execution_count": null,
      "outputs": []
    },
    {
      "cell_type": "markdown",
      "source": [
        "원래의 feature가 길이, 높이, 두께 3개였는데, 나머지 6개가 어떻게 생성되었는지 확인할 수 있다.\n",
        "\n",
        "PolynomialFeatures 클래스는 **get_feature_names_out()** method를 호출하여 각각의 특성이 어떤 feature들의 조합으로 만들어졌는지 알 수 있다."
      ],
      "metadata": {
        "id": "l88arIf0kFyk"
      }
    },
    {
      "cell_type": "code",
      "source": [
        "print(poly.get_feature_names_out())"
      ],
      "metadata": {
        "id": "PH_1EVFZkdAd"
      },
      "execution_count": null,
      "outputs": []
    },
    {
      "cell_type": "markdown",
      "source": [
        "위 처럼 각 feature의 조합을 알 수 있다. 이제 test set을 변환해보자."
      ],
      "metadata": {
        "id": "hE7dCwAYl4_b"
      }
    },
    {
      "cell_type": "markdown",
      "source": [
        "+) PolynomialFeatures 클래스는 fit() method에서 만들 특성의 조합을 준비하기만 할 뿐, 통계값을 구하지 않는다. 따라서 test_input을 fit()에 학습시켜 변환해도 되지만, 항상 train set을 기준으로 test set을 변환하는 습관을 들이는 것이 좋다."
      ],
      "metadata": {
        "id": "Ss1jI3PsmG8K"
      }
    },
    {
      "cell_type": "code",
      "source": [
        "test_poly=poly.transform(test_input)"
      ],
      "metadata": {
        "id": "V3wZy2m1mAM1"
      },
      "execution_count": null,
      "outputs": []
    },
    {
      "cell_type": "markdown",
      "source": [
        "### Multiple Regression Model Training"
      ],
      "metadata": {
        "id": "JP-GjiWDnxDs"
      }
    },
    {
      "cell_type": "markdown",
      "source": [
        "Multiple Regression Model을 학습시키는 것은 여러개의 feature를 사용한다는 것이 다를 뿐 Linear Regression과 동일하다."
      ],
      "metadata": {
        "id": "3nnG6VHTn3C9"
      }
    },
    {
      "cell_type": "code",
      "source": [
        "from sklearn.linear_model import LinearRegression\n",
        "\n",
        "lr=LinearRegression()\n",
        "lr.fit(train_poly,train_target) #feature를 추가한 train_poly를 이용하여 학습시킨다.(feature는 9개)"
      ],
      "metadata": {
        "id": "hlcIRXW3oHH7"
      },
      "execution_count": null,
      "outputs": []
    },
    {
      "cell_type": "markdown",
      "source": [
        "아래 결과를 통해 train set에 대한 score가 높아졌음을 알 수 있다. 또한 test set에 대한 score는 변화가 없지만, Underfitting문제는 해결되었음을 알 수 있다."
      ],
      "metadata": {
        "id": "bGLjMPOkowxZ"
      }
    },
    {
      "cell_type": "code",
      "source": [
        "print(lr.score(train_poly,train_target))"
      ],
      "metadata": {
        "id": "HhnNQiRYocuT"
      },
      "execution_count": null,
      "outputs": []
    },
    {
      "cell_type": "code",
      "source": [
        "print(lr.score(test_poly,test_target))"
      ],
      "metadata": {
        "id": "JgmKYbWEoonx"
      },
      "execution_count": null,
      "outputs": []
    },
    {
      "cell_type": "markdown",
      "source": [
        "만약 feature를 더 많이 추가한다면 어떻게 될까? 결과를 확인하기 위해 5제곱 feature까지 만들어보자\n",
        "\n",
        "PolynomialFeatures 클래스는 **degree** parameter를 사용하여 필요한 고차항의 최대 차수를 정할 수 있다."
      ],
      "metadata": {
        "id": "am258dY3pEJp"
      }
    },
    {
      "cell_type": "code",
      "source": [
        "poly=PolynomialFeatures(degree=5,include_bias=False) #최대 차수는 5\n",
        "\n",
        "poly.fit(train_input)\n",
        "train_poly=poly.transform(train_input)\n",
        "test_poly=poly.transform(test_input)\n",
        "print(train_poly.shape)\n",
        "print(test_poly.shape)"
      ],
      "metadata": {
        "id": "kpnNS3-spjai"
      },
      "execution_count": null,
      "outputs": []
    },
    {
      "cell_type": "markdown",
      "source": [
        "위 결과를 통해 feature가 총 55개인 것을 알 수 있다.(column의 수가 feature의 수)"
      ],
      "metadata": {
        "id": "WnRMyrNsqRkl"
      }
    },
    {
      "cell_type": "markdown",
      "source": [
        "해당 feature를 통해 다시 모델을 학습시켜보자"
      ],
      "metadata": {
        "id": "MpCqAWZXqbZt"
      }
    },
    {
      "cell_type": "code",
      "source": [
        "lr.fit(train_poly,train_target)"
      ],
      "metadata": {
        "id": "6u4W_2wQqfq3"
      },
      "execution_count": null,
      "outputs": []
    },
    {
      "cell_type": "markdown",
      "source": [
        "아래 결과에서 train set의 결과는 매우 좋다. 하지만 test set의 결과는 매우 큰 음수가 나온다.\n",
        "\n",
        "Feature 수가 많아질수록 Linear model은 매우 강력해진다. 즉 train set에 대해 거의 완벽하게 학습이 되는 것이다. 하지만 이렇게 되면 **Overfitting**이 발생한다.(weight들이 train set을 너무 잘 표현하기 때문)\n",
        "\n",
        "따라서 test set에 대한 결과는 매우 좋지 않은 것이다."
      ],
      "metadata": {
        "id": "G9na9VdgqxDn"
      }
    },
    {
      "cell_type": "code",
      "source": [
        "print(lr.score(train_poly,train_target))\n",
        "print(lr.score(test_poly,test_target))"
      ],
      "metadata": {
        "id": "qi8PqyKqqpwM"
      },
      "execution_count": null,
      "outputs": []
    },
    {
      "cell_type": "markdown",
      "source": [
        "훈련에 사용한 sample은 총 42개이다. 그런데 feature가 55개라면 완벽하게 학습이 될 수 밖에 없다. 예시로 어떤 42마리의 참새를 맞추기 위해 딱 한 번 총을 쏴야한다면 참새 떼 정중앙을 겨냥하여 가능한 맞출 가능성을 높일 것이다. 하지만 55번 쏠 수 있다면 한번에 하나씩 모든 참새를 맞출 수 있다.\n",
        "\n",
        "이처럼 overfitting을 줄이는 방법을 **Regularization**이라고 한다."
      ],
      "metadata": {
        "id": "UAp3acqVravk"
      }
    },
    {
      "cell_type": "markdown",
      "source": [
        "### Regularization"
      ],
      "metadata": {
        "id": "dIabG8eZr-Xd"
      }
    },
    {
      "cell_type": "markdown",
      "source": [
        "**Regularization**: 모델이 Train set을 과도하게 학습하지 못하도록, 즉 Overfitting이 발생하지 않도록 만드는 것\n",
        "\n",
        "Linear model의 경우 Feature에 곱해지는 계수(기울기), 즉 weight의 크기를 작게 하는 것."
      ],
      "metadata": {
        "id": "mGZCLFed4-7N"
      }
    },
    {
      "cell_type": "markdown",
      "source": [
        "feature의 Scale이 normalization되지 않으면 weight가 잘 적용되지 않는다.(예시로 이전 문제의 무게와 길이 단위차로 인한 부정확한 결과)\n",
        "\n",
        "따라서 regularization을 적용하기 전, normalization을 해주어야 한다. 이전 예시에서는 mean과 standard deviation을 직접 계산하여 **standard score**을 구해 적용하였다. 이번 예제에서는 scikit-learn의 StandardScaler 클래스를 활용하겠다."
      ],
      "metadata": {
        "id": "Bt841FiGq4UH"
      }
    },
    {
      "cell_type": "markdown",
      "source": [
        "**StandardScaler** 클래스의 객체 ss를 초기화한 후 PolynomialFeatures 클래스로 만든 train_poly 데이터를 통해 ss를 Training시킨다.\n",
        "\n",
        "주의) train set으로 학습시킨 transform을 통해 test set을 변환해야 한다."
      ],
      "metadata": {
        "id": "OgZzieRJqQA9"
      }
    },
    {
      "cell_type": "code",
      "source": [
        "from sklearn.preprocessing import StandardScaler\n",
        "\n",
        "ss=StandardScaler()\n",
        "ss.fit(train_poly)\n",
        "train_scaled=ss.transform(train_poly)\n",
        "test_scaled=ss.transform(test_poly)"
      ],
      "metadata": {
        "id": "OOcTZpuX59j5"
      },
      "execution_count": null,
      "outputs": []
    },
    {
      "cell_type": "markdown",
      "source": [
        "Linear Regression 모델에 Regularization을 추가한 모델을 **ridge(L2 Regression)**와 **lasso(L1 Regression)**라고 한다.\n",
        "\n",
        "* **ridge(L2 Regression)**: 계수를 제곱한 값을 기준으로 규제를 적용\n",
        "\n",
        "* **lasso(L1 Regression)**: 계수의 절대값을 기준으로 규제를 적용"
      ],
      "metadata": {
        "id": "ZNaK19k5sA-w"
      }
    },
    {
      "cell_type": "markdown",
      "source": [
        "### Ridge(L2) Regression"
      ],
      "metadata": {
        "id": "QC6RVoY_wEAI"
      }
    },
    {
      "cell_type": "markdown",
      "source": [
        "Ridge와 Lasso regression 모두 **sklearn.linear_model 패키지 안에 있다.\n",
        "\n",
        "이전과 동일하게 fit()로 학습시키고, score()로 평가\n",
        "\n",
        "이전에 만든 train_scaled 데이터로 ridge 모델 training"
      ],
      "metadata": {
        "id": "mfY-ctxiwIMi"
      }
    },
    {
      "cell_type": "code",
      "source": [
        "from sklearn.linear_model import Ridge\n",
        "ridge=Ridge()\n",
        "ridge.fit(train_scaled,train_target)\n",
        "print(ridge.score(train_scaled,train_target))"
      ],
      "metadata": {
        "id": "RzHqWAMvv5uA"
      },
      "execution_count": null,
      "outputs": []
    },
    {
      "cell_type": "markdown",
      "source": [
        "결과를 통해 train set의 정확도는 낮아졌지만, test set의 정확도는 음수값에서 정상적으로 돌아온 것을 볼 수 있다. 많은 feature를 사용했지만, Overfitting되지 않아 test set에서 좋은 성능을 보인다."
      ],
      "metadata": {
        "id": "akAyvsX1wrAX"
      }
    },
    {
      "cell_type": "code",
      "source": [
        "print(ridge.score(test_scaled,test_target))"
      ],
      "metadata": {
        "id": "3kISs98Uwrf7"
      },
      "execution_count": null,
      "outputs": []
    },
    {
      "cell_type": "markdown",
      "source": [
        "ridge와 lasso 모델은 regularization의 정도를 조절할 수 있다. **alpha** 변수를 통해 조절 가능하다.\n",
        "\n",
        "alpha값의 크기에 따라 Overfitting과 Underfitting을 조절할 수 있다.\n",
        "\n",
        "이때, **alpha**값은 hyperparameter라고 부른다. 이는 모델이 학습하는 것이 아니라 사람이 지정해주어야 하는 값이다."
      ],
      "metadata": {
        "id": "Oldm_0-xxBak"
      }
    },
    {
      "cell_type": "markdown",
      "source": [
        "적절한 alpha값을 찾는 방법은 alpha에 대한 $R^2$(평가지표)그래프를 그려보는 것이다.\n",
        "\n",
        "train set과 test set의 score가 가장 가까운 지점이 최적의 alpha값이다.\n",
        "\n",
        "먼저 alpha값을 바꿀 때마다 score() method의 결과를 저장할 list를 만든다."
      ],
      "metadata": {
        "id": "goYZBv0lxofj"
      }
    },
    {
      "cell_type": "code",
      "source": [
        "import matplotlib.pyplot as plt\n",
        "train_score=[]\n",
        "test_score=[]"
      ],
      "metadata": {
        "id": "C3h1jIDlyclQ"
      },
      "execution_count": null,
      "outputs": []
    },
    {
      "cell_type": "markdown",
      "source": [
        "그 다음 alpha값을 0.001에서 100까지 10배씩 늘리면서 ridge regression 모델을 training시키고, 각 모델에 대한 score값을 list에 저장한다."
      ],
      "metadata": {
        "id": "2YznInu0ylP7"
      }
    },
    {
      "cell_type": "code",
      "source": [
        "alpha_list=[0.001,0.01,0.1,1,10,100] #alpha값으로 지정해줄 값을 저장한 list\n",
        "for alpha in alpha_list:\n",
        "    ridge=Ridge(alpha=alpha) #alpha값을 변경하며 모델 학습\n",
        "    ridge.fit(train_scaled,train_target) #train set에 대해 학습\n",
        "    train_score.append(ridge.score(train_scaled,train_target))\n",
        "    test_score.append(ridge.score(test_scaled,test_target))"
      ],
      "metadata": {
        "id": "28Yo73k2yyWo"
      },
      "execution_count": null,
      "outputs": []
    },
    {
      "cell_type": "markdown",
      "source": [
        "위에서 alpha값이 다른 각 모델들을 학습시키고, 그에 대한 score값을 list에 저장했다. 이를 그래프로 그려보자.\n",
        "\n",
        "alpha값을 0.001부터 10배씩 증가시켰기 때문에 그래프의 간격이 일정하지 않다.(왼쪽이 매우 촘촘하다.)\n",
        "\n",
        "따라서 alpha_list의 값을 로그함수로 바꾸어 지수 표현을 사용하겠다.(즉, 0.001은 -3, 0.01은 -2가 되는 것)"
      ],
      "metadata": {
        "id": "DIYDwqMjzhe7"
      }
    },
    {
      "cell_type": "code",
      "source": [
        "plt.plot(np.log10(alpha_list),train_score)\n",
        "plt.plot(np.log10(alpha_list),test_score)\n",
        "plt.xlabel('alpha')\n",
        "plt.ylabel('R^2')\n",
        "plt.show()"
      ],
      "metadata": {
        "id": "-03f1Is_0Cc4"
      },
      "execution_count": null,
      "outputs": []
    },
    {
      "cell_type": "markdown",
      "source": [
        "위 결과를 보면 그래프이 왼쪽은 Overfitting이 발생했고, 오른쪽은 train set의 결과도 내려가는 Underfitting이 발생했다.\n",
        "\n",
        "따라서 가장 적절한 alpha값은 두 그래프가 가장 가깝고 test set의 점수가 가장 높은 -1, 즉 0.1이 가장 적합하다."
      ],
      "metadata": {
        "id": "B75xRAch2TbQ"
      }
    },
    {
      "cell_type": "markdown",
      "source": [
        "아래 결과를 보면 alpha값을 통해 regularization을 적절하게 활용하여 Overfitting과 Underfitting을 방지한 것을 알 수 있다."
      ],
      "metadata": {
        "id": "S7OwvY7V2-LU"
      }
    },
    {
      "cell_type": "code",
      "source": [
        "ridge=Ridge(alpha=0.1)\n",
        "ridge.fit(train_scaled,train_target)\n",
        "print(ridge.score(train_scaled,train_target))\n",
        "print(ridge.score(test_scaled,test_target))"
      ],
      "metadata": {
        "id": "T2GpbTvO2pa8"
      },
      "execution_count": null,
      "outputs": []
    },
    {
      "cell_type": "markdown",
      "source": [
        "### Lasso(L1) Regression"
      ],
      "metadata": {
        "id": "5_sefSuz3Jj8"
      }
    },
    {
      "cell_type": "markdown",
      "source": [
        "Lasso 모델은 ridge를 training하는 것과 매우 유사하다.(**Ridge**클래스를 **Lasso**클래스로 바꾸는 것이 전부)"
      ],
      "metadata": {
        "id": "x0qYzWXQ3Nef"
      }
    },
    {
      "cell_type": "code",
      "source": [
        "from sklearn.linear_model import Lasso\n",
        "lasso=Lasso()\n",
        "lasso.fit(train_scaled,train_target)\n",
        "print(lasso.score(train_scaled,train_target))\n",
        "print(lasso.score(test_scaled,test_target))"
      ],
      "metadata": {
        "id": "k7fIlQuJ3bDM"
      },
      "execution_count": null,
      "outputs": []
    },
    {
      "cell_type": "markdown",
      "source": [
        "결과를 통해 Overfitting이 발생하지 않고, 정상적으로 training된 것을 볼 수 있다.\n",
        "\n",
        "동일하게 lasso model의 적절한 alpha값을 찾아보자"
      ],
      "metadata": {
        "id": "KQjfTCs04Dyz"
      }
    },
    {
      "cell_type": "code",
      "source": [
        "train_score=[]\n",
        "test_score=[]\n",
        "alpha_list=[0.001,0.01,0.1,1,10,100]\n",
        "for alpha in alpha_list:\n",
        "    #lasso 모델은 최적의 계수를 찾기 위해 반복적인 계산을 수행하는데, 지정된 반복 횟수가 부족할 때 경고 발생(방지하기 위해 max_iter=10000을 설정)\n",
        "    lasso=Lasso(alpha=alpha,max_iter=10000)\n",
        "    lasso.fit(train_scaled,train_target)\n",
        "    train_score.append(lasso.score(train_scaled,train_target))\n",
        "    test_score.append(lasso.score(test_scaled,test_target))"
      ],
      "metadata": {
        "id": "k159bdb06prX"
      },
      "execution_count": null,
      "outputs": []
    },
    {
      "cell_type": "code",
      "source": [
        "plt.plot(np.log10(alpha_list),train_score) #np.log10은 numpy에서 제공하는 log함수\n",
        "plt.plot(np.log10(alpha_list),test_score)\n",
        "plt.xlabel('alpha')\n",
        "plt.ylabel('R^2')\n",
        "plt.show()"
      ],
      "metadata": {
        "id": "lbDVLWv17krG"
      },
      "execution_count": null,
      "outputs": []
    },
    {
      "cell_type": "markdown",
      "source": [
        "위 결과를 보면 왼쪽은 Overfitting, 오른쪽은 Underfitting이 발생하는 것을 볼 수 있다.(최적의 alpha값은 1, 즉 10이다)"
      ],
      "metadata": {
        "id": "g_NM9u6O8BQE"
      }
    },
    {
      "cell_type": "code",
      "source": [
        "lasso=Lasso(alpha=10)\n",
        "lasso.fit(train_scaled,train_target)\n",
        "print(lasso.score(train_scaled,train_target))\n",
        "print(lasso.score(test_scaled,test_target))"
      ],
      "metadata": {
        "id": "-4CS4Q7Y8KEG"
      },
      "execution_count": null,
      "outputs": []
    },
    {
      "cell_type": "markdown",
      "source": [
        "위 결과에서 많은 feature들을 사용했음에도 overfitting이 발생하지 않은 것을 볼 수 있다.\n",
        "\n",
        "lasso모델은 weight값을 0으로 만들 수 있다. lasso model의 weight는 coef_ 속성에 저장되어 있다."
      ],
      "metadata": {
        "id": "I7EkDrBZ8edV"
      }
    },
    {
      "cell_type": "code",
      "source": [
        "print(np.sum(lasso.coef_==0))"
      ],
      "metadata": {
        "id": "yGwJ6Lq79o4g"
      },
      "execution_count": null,
      "outputs": []
    },
    {
      "cell_type": "markdown",
      "source": [
        "np.sum()함수는 배열을 모두 더한 값을 반환한다. numpy배열에 비교연산자를 사용했을 떄, 각 원소는 True(1) 또는 False(0)이 되어 연산한다. 따라서 coef_중 0인 값을 셀 수 있는 것이다.\n",
        "\n",
        "위 결과를 보면 weight 40개가 0이 된 것을 볼 수 있다. 즉 55개의 feature 중 15개만을 사용하는 것이다.\n",
        "\n",
        "이처럼 lasso 모델을 사용하여 유용한 feature를 골라낼 수 있다."
      ],
      "metadata": {
        "id": "KcT_uMLR9zT-"
      }
    },
    {
      "cell_type": "markdown",
      "source": [
        "### 추가공부"
      ],
      "metadata": {
        "id": "o_-DvzFY-U_4"
      }
    },
    {
      "cell_type": "markdown",
      "source": [
        "**Pandas**\n",
        "* **read_csv()**: csv파일을 로컬 컴퓨터나 인터넷에서 읽어, pandas dataframe으로 변환하는 함수. read_csv()함수는 많은 parameter를 제공한다. sep는 csv파일의 구분자를 지정(기본값은 콤마(,)), header는 dataframe의 column 이름으로 사용할 csv파일의 row 번호를 지정(기본값은 첫 번째 row를 column 이름으로 사용, skiprows는 파일에서 읽기 전에 건너뛸 행의 개수를 지정, nrows는 파일에서 읽을 행의 개수를 지정"
      ],
      "metadata": {
        "id": "Bc32tiat-XM_"
      }
    },
    {
      "cell_type": "markdown",
      "source": [
        "**scikit-learn**\n",
        "\n",
        "* **PolynomialFeatures**: 주어진 Feature들을 조합하여 새로운 Feature를 만든다. degree는 최고차수 지정(기본값은 2), interaction_only가 True이면 거듭제곱 항은 제외되고 feature간 곱셈 항만 추가(기본값은 False), include_bias가 False이면 bias를 위한 feature를 추가하지 않음(기본값은 True)\n",
        "\n",
        "* **Ridge**: Regularization이 있는 Regression 알고리즘. 'alpha' parameter로 regularization 강도를 조절(기본값은 1), solver로 최적의 모델을 찾기 위한 방법을 지정할 수 있음(기본값은 'auto', 데이터에 따라 자동으로 선택됨)('sag'는 확률적 평균 경사 하강법 알고리즘(SGD)로 feature와 sample이 많을 때 성능이 좋다, 'saga'는 'sag'의 개선 버전), random_state는 solver가 'sag' 또는 'saga'일 때 numpy 난수 시드값을 지정할 수 있다.\n",
        "\n",
        "* **Lasso**: Regularization이 있는 Regression 알고리즘. Lasso 클래스는 최적의 모델을 찾기 위해 좌표축을 따라 Optimization을 수행하는 coordinate descent(좌표 하강법)을 사용. alpha와 random_state는 Ridge클래스와 동일, max_iter는 알고리즘의 수행 반복 횟수를 지정(기본값은 1000)"
      ],
      "metadata": {
        "id": "Zm_8IvDBW2Od"
      }
    }
  ]
}