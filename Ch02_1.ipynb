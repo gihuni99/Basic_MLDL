{
  "nbformat": 4,
  "nbformat_minor": 0,
  "metadata": {
    "colab": {
      "private_outputs": true,
      "provenance": [],
      "authorship_tag": "ABX9TyPe96Sn3tfFS3sEtlHVtl22",
      "include_colab_link": true
    },
    "kernelspec": {
      "name": "python3",
      "display_name": "Python 3"
    },
    "language_info": {
      "name": "python"
    }
  },
  "cells": [
    {
      "cell_type": "markdown",
      "metadata": {
        "id": "view-in-github",
        "colab_type": "text"
      },
      "source": [
        "<a href=\"https://colab.research.google.com/github/gihuni99/Basic_MLDL/blob/main/Ch02_1.ipynb\" target=\"_parent\"><img src=\"https://colab.research.google.com/assets/colab-badge.svg\" alt=\"Open In Colab\"/></a>"
      ]
    },
    {
      "cell_type": "markdown",
      "source": [
        "# Ch02-1 훈련 세트와 테스트 세트"
      ],
      "metadata": {
        "id": "7417E2r-ev0a"
      }
    },
    {
      "cell_type": "markdown",
      "source": [
        "### Supervised Learning & Unsupervised Learning"
      ],
      "metadata": {
        "id": "xkheUriskedJ"
      }
    },
    {
      "cell_type": "markdown",
      "source": [
        "**Supervised Learning과 Unsupervised Learning**\n",
        "Supervided Learning에서 데이터를 input, 정답을 target(혹은 Ground Truth)라고 한다. 이를 합쳐 **Training Data**라고 한다.\n",
        "\n",
        "또한 생선의 '길이'와 '무게'는 데이터의 **Feature(특성)**이다."
      ],
      "metadata": {
        "id": "xdVJhi-gft6Q"
      }
    },
    {
      "cell_type": "markdown",
      "source": [
        "### Train set & Test set"
      ],
      "metadata": {
        "id": "l3RJu3PNkn_s"
      }
    },
    {
      "cell_type": "markdown",
      "source": [
        "Ch01-2에서 kn모델의 정확도가 100%라고 평가한 것은 옳지 않다. 시험문제를 모두 알려주고 시험을 치루면 누구나 100점을 맞을 수 있듯이 모델도 마찬가지이다.\n",
        "\n",
        "k-nearest neighbors classifier의 정확도를 측정할 때, Training에 사용했던 데이터를 그대로 사용했기 때문에 정확도가 100%라는 것은 옳지 않은 평가이다.\n",
        "\n",
        "따라서 Train set과 Test set을 나누는 것이다."
      ],
      "metadata": {
        "id": "mevV7FBjhGh8"
      }
    },
    {
      "cell_type": "markdown",
      "source": [
        "Ch01-2에서 했던 예시와 동일하게 데이터를 준비하여 공부해보자"
      ],
      "metadata": {
        "id": "WFKvCOeqh5Ay"
      }
    },
    {
      "cell_type": "code",
      "execution_count": null,
      "metadata": {
        "id": "C3RlalStepNi"
      },
      "outputs": [],
      "source": [
        "fish_length = [25.4, 26.3, 26.5, 29.0, 29.0, 29.7, 29.7, 30.0, 30.0, 30.7, 31.0, 31.0,\n",
        "                31.5, 32.0, 32.0, 32.0, 33.0, 33.0, 33.5, 33.5, 34.0, 34.0, 34.5, 35.0,\n",
        "                35.0, 35.0, 35.0, 36.0, 36.0, 37.0, 38.5, 38.5, 39.5, 41.0, 41.0, 9.8,\n",
        "                10.5, 10.6, 11.0, 11.2, 11.3, 11.8, 11.8, 12.0, 12.2, 12.4, 13.0, 14.3, 15.0]\n",
        "fish_weight = [242.0, 290.0, 340.0, 363.0, 430.0, 450.0, 500.0, 390.0, 450.0, 500.0, 475.0, 500.0,\n",
        "                500.0, 340.0, 600.0, 600.0, 700.0, 700.0, 610.0, 650.0, 575.0, 685.0, 620.0, 680.0,\n",
        "                700.0, 725.0, 720.0, 714.0, 850.0, 1000.0, 920.0, 955.0, 925.0, 975.0, 950.0, 6.7,\n",
        "                7.5, 7.0, 9.7, 9.8, 8.7, 10.0, 9.9, 9.8, 12.2, 13.4, 12.2, 19.7, 19.9]"
      ]
    },
    {
      "cell_type": "code",
      "source": [
        "fish_data = [[l, w] for l, w in zip(fish_length, fish_weight)]\n",
        "fish_target = [1]*35 + [0]*14"
      ],
      "metadata": {
        "id": "w6CoS7zDhymZ"
      },
      "execution_count": null,
      "outputs": []
    },
    {
      "cell_type": "markdown",
      "source": [
        "아래 결과를 통해 Dataset이 잘 준비된 것을 볼 수 있다.\n",
        "\n",
        "이 때, 하나의 생선 데이터를 **Sample**이라고 부른다.\n",
        "\n",
        "즉, 생선의 데이터셋은 총 49개의 Sample이 존재한다."
      ],
      "metadata": {
        "id": "0Bf0wkeqiJKz"
      }
    },
    {
      "cell_type": "code",
      "source": [
        "print(fish_data[4])"
      ],
      "metadata": {
        "id": "8zG4RBlIh3GQ"
      },
      "execution_count": null,
      "outputs": []
    },
    {
      "cell_type": "markdown",
      "source": [
        "생성 Dataset에서 처음 35개를 Train set, 그 다음 14개를 Test set으로 사용하여 training하고 test결과를 확인해보자\n",
        "\n"
      ],
      "metadata": {
        "id": "rMNMGlPzig4Z"
      }
    },
    {
      "cell_type": "markdown",
      "source": [
        "### Sampling Bias"
      ],
      "metadata": {
        "id": "Tck3Ygu0kxmQ"
      }
    },
    {
      "cell_type": "code",
      "source": [
        "from sklearn.neighbors import KNeighborsClassifier\n",
        "\n",
        "kn = KNeighborsClassifier()"
      ],
      "metadata": {
        "id": "Vv8HDVIcjhnB"
      },
      "execution_count": null,
      "outputs": []
    },
    {
      "cell_type": "code",
      "source": [
        "train_input=fish_data[:35] #0-34의 35개의 sample을 train set으로 지정(slicing)\n",
        "train_target=fish_target[:35]\n",
        "test_input=fish_data[35:]#35-48의 14개의 sample을 test set으로 지정(slicing)\n",
        "test_target=fish_target[35:]"
      ],
      "metadata": {
        "id": "uL3uhVqIi1zU"
      },
      "execution_count": null,
      "outputs": []
    },
    {
      "cell_type": "code",
      "source": [
        "kn.fit(train_input,train_target)\n",
        "kn.score(test_input,test_target)"
      ],
      "metadata": {
        "id": "WAX06S5xjV_m"
      },
      "execution_count": null,
      "outputs": []
    },
    {
      "cell_type": "markdown",
      "source": [
        "accuracy가 0이 나왔는데, 이는 어쩌면 당연하다. train set에는 도미 데이터만, test set에는 빙어 데이터만 입력되었기 때문이다.\n",
        "\n",
        "이를 **Sampling Bias(샘플링 편향)**이라고 한다.\n",
        "\n",
        "위 문제를 해결하기 위해서는 train, test set을 적절하게 나눠야 한다."
      ],
      "metadata": {
        "id": "A3xU6JCVjzru"
      }
    },
    {
      "cell_type": "markdown",
      "source": [
        "### Numpy"
      ],
      "metadata": {
        "id": "rOIdqTpEk2dW"
      }
    },
    {
      "cell_type": "markdown",
      "source": [
        "Numpy는 파이썬의 대표적인 array library (고차원의 배열을 쉽게 조작할 수 있다.)"
      ],
      "metadata": {
        "id": "vK83V9Qbk5Eu"
      }
    },
    {
      "cell_type": "code",
      "source": [
        "import numpy as np"
      ],
      "metadata": {
        "id": "qBFMy8knlHbl"
      },
      "execution_count": null,
      "outputs": []
    },
    {
      "cell_type": "markdown",
      "source": [
        "* Python List를 Numpy List로 변환하는 방법"
      ],
      "metadata": {
        "id": "JJL-q3YelMjq"
      }
    },
    {
      "cell_type": "code",
      "source": [
        "input_arr=np.array(fish_data) #numpy의 array()함수에 python list를 전달\n",
        "target_arr=np.array(fish_target)"
      ],
      "metadata": {
        "id": "FKs520E3lRpA"
      },
      "execution_count": null,
      "outputs": []
    },
    {
      "cell_type": "markdown",
      "source": [
        "numpy는 array의 dimension을 쉽게 구분하기 위해 행, 열을 가지런히 출력한다.\n",
        "\n",
        "또한 배열의 크기를 알려주는 shap을 제공한다.(결과는 아래에 있다)"
      ],
      "metadata": {
        "id": "Zc0VDUTPl_Jn"
      }
    },
    {
      "cell_type": "code",
      "source": [
        "print(input_arr)"
      ],
      "metadata": {
        "id": "Q_UcJvlrl5lV"
      },
      "execution_count": null,
      "outputs": []
    },
    {
      "cell_type": "code",
      "source": [
        "print(input_arr.shape) #행, 열을 차례로 출력(예시에서 행은 Sample의 수, 열은 Feature의 수이다)"
      ],
      "metadata": {
        "id": "WUPDq9RBmThJ"
      },
      "execution_count": null,
      "outputs": []
    },
    {
      "cell_type": "markdown",
      "source": [
        "위 numpy array에서 random하게 sample을 선택하여 train, test set을 구성해야 한다.\n",
        "\n",
        "이때 input과 target이 같은 순서로 랜덤하게 섞여야 하는 것이 핵심\n",
        "\n",
        "따라서 index를 무작위로 섞을 array를 따로 선언"
      ],
      "metadata": {
        "id": "5lP6VzCgmwK6"
      }
    },
    {
      "cell_type": "code",
      "source": [
        "np.random.seed(42) #random sedd를 42로 설정(책과 동일한 결과를 얻기 위해 random seed를 사용)\n",
        "index=np.arange(49) #numpy의 arange(n)함수는 0-(n-1)까지 1씩 증가하는 인덱스를 간단하게 만들 수 있다.\n",
        "print(index)\n",
        "np.random.shuffle(index) #numpy의 random 패키지 아래있는 shuffle()함수는 주어지 배열을 무작위로 섞는다."
      ],
      "metadata": {
        "id": "D570EP2PpYc9"
      },
      "execution_count": null,
      "outputs": []
    },
    {
      "cell_type": "markdown",
      "source": [
        "아래 결과에서 numpy.random의 shuffle을 통해 index를 무작위로 섞는 것을 알 수 있다."
      ],
      "metadata": {
        "id": "Kc3zwTAmqUfT"
      }
    },
    {
      "cell_type": "code",
      "source": [
        "print(index)"
      ],
      "metadata": {
        "id": "UYJBhYLCqP7n"
      },
      "execution_count": null,
      "outputs": []
    },
    {
      "cell_type": "markdown",
      "source": [
        "Numpy는 추가적으로 Slicing외에 **array indexing** 기능을 제공한다.\n",
        "\n",
        "array indexing을 통해 1개의 index가 아닌, 여러 개의 index로 여러 개의 element를 선택할 수 있다.(예시 결과는 아래와 같다.)"
      ],
      "metadata": {
        "id": "u9ksD9jwqgss"
      }
    },
    {
      "cell_type": "code",
      "source": [
        "print(input_arr[[1,3]])#[](array)안에 여러 index를 입력하여 elemnet를 선택할 수 있다."
      ],
      "metadata": {
        "id": "ato6Bv07q5Iv"
      },
      "execution_count": null,
      "outputs": []
    },
    {
      "cell_type": "markdown",
      "source": [
        "array indexing을 통해 train set과 test set을 나누어보자."
      ],
      "metadata": {
        "id": "aEUd-r8grJTX"
      }
    },
    {
      "cell_type": "code",
      "source": [
        "train_input=input_arr[index[:35]]\n",
        "train_target=target_arr[index[:35]]\n",
        "test_input=input_arr[index[35:]]\n",
        "test_target=target_arr[index[35:]]"
      ],
      "metadata": {
        "id": "fBs_k9VArRHr"
      },
      "execution_count": null,
      "outputs": []
    },
    {
      "cell_type": "markdown",
      "source": [
        "shuffle로 섞인 index배열을 보면 첫 element가 14이다. 즉, train_input의 1번째 sample은 input_arr의 13번째 sample과 같다."
      ],
      "metadata": {
        "id": "BNiAQFMPsNPx"
      }
    },
    {
      "cell_type": "code",
      "source": [
        "print(input_arr[13],train_input[0])"
      ],
      "metadata": {
        "id": "K8TilN-SsAAo"
      },
      "execution_count": null,
      "outputs": []
    },
    {
      "cell_type": "markdown",
      "source": [
        "랜덤하게 나누어진 train set과 test set을 확인해보자\n",
        "\n",
        "아래 결과를 보면 파란색이 train set, 주황색이 test set인데, 잘 섞인 것을 볼 수 있다."
      ],
      "metadata": {
        "id": "577KMFfotFSX"
      }
    },
    {
      "cell_type": "code",
      "source": [
        "import matplotlib.pyplot as plt\n",
        "plt.scatter(train_input[:,0],train_input[:,1]) #input의 전체 행 0번째 열이 x축(length), 전체 행 1번째 열이 y축(weight)\n",
        "plt.scatter(test_input[:,0],test_input[:,1])\n",
        "plt.xlabel('length')\n",
        "plt.ylabel('weight')\n",
        "plt.show()"
      ],
      "metadata": {
        "id": "4-sGY2TytLEE"
      },
      "execution_count": null,
      "outputs": []
    },
    {
      "cell_type": "markdown",
      "source": [
        "이제 train set과 test set이 적절하게 섞인 데이터를 통해 모델 학습을 시켜보자"
      ],
      "metadata": {
        "id": "WbI-38d-uAmJ"
      }
    },
    {
      "cell_type": "code",
      "source": [
        "kn.fit(train_input,train_target)"
      ],
      "metadata": {
        "id": "Awmd1ma5uFql"
      },
      "execution_count": null,
      "outputs": []
    },
    {
      "cell_type": "markdown",
      "source": [
        "100%의 정확도로 classification을 한 것을 볼 수 있다."
      ],
      "metadata": {
        "id": "iWy8Um9YuSkv"
      }
    },
    {
      "cell_type": "code",
      "source": [
        "kn.score(test_input,test_target)"
      ],
      "metadata": {
        "id": "MBKOsRYWuLHo"
      },
      "execution_count": null,
      "outputs": []
    },
    {
      "cell_type": "markdown",
      "source": [
        "predict method를 통해 실제로 잘 동작하는지 확인해보았을 때, 아래의 결과를 볼 수 있다.\n",
        "\n",
        "출력 결과가 array로 감싸져 있는데, 이는 단순한 python array가 아닌, numpy array임을 나타낸다."
      ],
      "metadata": {
        "id": "VqOR42cYuecV"
      }
    },
    {
      "cell_type": "code",
      "source": [
        "kn.predict(test_input)"
      ],
      "metadata": {
        "id": "o2zCi5bHuX_L"
      },
      "execution_count": null,
      "outputs": []
    },
    {
      "cell_type": "code",
      "source": [
        "test_target #colab은 셀의 마지막 코드 결과를 자동으로 출력해주어서 print를 사용하지 않아도 된다(사용해도 같은 결과)"
      ],
      "metadata": {
        "id": "Xu3dmp-guYE8"
      },
      "execution_count": null,
      "outputs": []
    },
    {
      "cell_type": "markdown",
      "source": [
        "### 추가적인 공부"
      ],
      "metadata": {
        "id": "f_y8GzaevR26"
      }
    },
    {
      "cell_type": "code",
      "source": [
        "#numpy\n",
        "\n",
        "#1. seed()\n",
        "# numpy의 seed()는 난수 생성을 위한 초기값을 지정(초기값이 같으면 동일한 난수를 뽑을 수 있다.)\n",
        "\n",
        "#2. arange()\n",
        "#numpy의 arange()는 일정한 간격의 정수 또는 실수 배열을 생성(기본 간격은 1)\n",
        "print(np.arange(3)) #0-2까지의 정수\n",
        "print(np.arange(1,3)) #parameter가 2개라면 시작, 종료 숫자를 의미(1-2까지의 정수)\n",
        "print(np.arange(1,3,0.2)) #parameter가 3개라면 시작,종료,간격을 의미(1이상 3미만의 0.2간격의 실수 배열)\n",
        "\n",
        "#3. shuffle()\n",
        "#numpy의 shuffle()은 주어진 배열을 랜덤하게 섞는다. 만약 N-dimension array라면 첫번째 축(행)에 대해서만 섞는다.\n",
        "arr=np.array([[1,2],[3,4],[5,6]])\n",
        "np.random.shuffle(arr)\n",
        "print(arr)"
      ],
      "metadata": {
        "id": "D4DdB85cvVD9"
      },
      "execution_count": null,
      "outputs": []
    }
  ]
}